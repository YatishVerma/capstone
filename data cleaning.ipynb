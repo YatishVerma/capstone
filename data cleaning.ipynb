{
 "cells": [
  {
   "cell_type": "code",
   "execution_count": 199,
   "id": "7e622380",
   "metadata": {},
   "outputs": [],
   "source": [
    "#Table 1\n",
    "#Sno,Address,City,State code,Country, Rental Price,deposit\n",
    "#table2\n",
    "#Sno, no of bed, no.of bathroom , Area ,pets allowed\n",
    "#table 3\n",
    "#Sno ,Washer/Dryer , AC ,Parking, Fireplace, Dishwasher, Hardwood floors, Roofdeck ,storage"
   ]
  },
  {
   "cell_type": "code",
   "execution_count": 200,
   "id": "c6e8a7a9",
   "metadata": {},
   "outputs": [],
   "source": [
    "import pandas as pd\n",
    "import numpy as  np\n"
   ]
  },
  {
   "cell_type": "code",
   "execution_count": 201,
   "id": "d5a8a75b",
   "metadata": {},
   "outputs": [],
   "source": [
    "df_test=pd.read_csv(\"rentdatawebscraping1.csv\")"
   ]
  },
  {
   "cell_type": "code",
   "execution_count": 202,
   "id": "ba3b3968",
   "metadata": {},
   "outputs": [],
   "source": [
    "df=df_test.copy()"
   ]
  },
  {
   "cell_type": "code",
   "execution_count": 203,
   "id": "c5cbed78",
   "metadata": {},
   "outputs": [
    {
     "data": {
      "text/plain": [
       "(6840, 10)"
      ]
     },
     "execution_count": 203,
     "metadata": {},
     "output_type": "execute_result"
    }
   ],
   "source": [
    "df.shape"
   ]
  },
  {
   "cell_type": "code",
   "execution_count": 204,
   "id": "0c19f5e6",
   "metadata": {},
   "outputs": [],
   "source": [
    "df['Price']=df['Price'].str.replace('M$','0000',regex=True)"
   ]
  },
  {
   "cell_type": "code",
   "execution_count": 205,
   "id": "072dfc23",
   "metadata": {
    "scrolled": true
   },
   "outputs": [
    {
     "name": "stdout",
     "output_type": "stream",
     "text": [
      "           City    Price   Rooms  Bathrooms     Area  \\\n",
      "0     Austin TX  $29,340       7        7.0  3,550sf   \n",
      "1     Austin TX   $2,620       1        1.0  unknown   \n",
      "2     Austin TX   $1,460       3        2.0  1,352sf   \n",
      "3     Austin TX   $3,350       3        1.0  1,300sf   \n",
      "4     Austin TX   $7,000       2        2.0  1,360sf   \n",
      "...         ...      ...     ...        ...      ...   \n",
      "6835     Munich   €2,149       1        1.0      24m   \n",
      "6836     Munich   €3,753  Studio        1.0      27m   \n",
      "6837     Munich   €3,100       5        1.0      60m   \n",
      "6838     Munich   €1,160       4        2.0  unknown   \n",
      "6839     Munich   €1,150       4        2.0  unknown   \n",
      "\n",
      "                                               Location  \\\n",
      "0                                            Austin, TX   \n",
      "1                                   801 West 5th Street   \n",
      "2                           Austin, Indian Oaks, TX, US   \n",
      "3                                         5505 Avenue H   \n",
      "4     Seaholm Residences, 222 West Avenue, Austin, T...   \n",
      "...                                                 ...   \n",
      "6835  Leica Geosystems GmbH Vertrieb Deutschland, Tr...   \n",
      "6836           Westendstraße 170, 80686 Munich, Germany   \n",
      "6837             Baaderstraße 43, 80469 Munich, Germany   \n",
      "6838            Barer Straße 58b, 80799 Munich, Germany   \n",
      "6839  Städtisches Sophie-Scholl-Gymnasium, Borschtal...   \n",
      "\n",
      "                                              Amenities Dogs_allowed  \\\n",
      "0     ['Air Conditioning', 'Balcony', 'Parking', 'Po...  not allowed   \n",
      "1                                                    []      allowed   \n",
      "2                                                    []      allowed   \n",
      "3     ['Storage', 'Air Conditioning', 'Dishwasher', ...      allowed   \n",
      "4                                                    []  not allowed   \n",
      "...                                                 ...          ...   \n",
      "6835  ['Furnished', 'Parking', 'Washer/Dryer In Unit...  not allowed   \n",
      "6836  ['Furnished', 'Parking', 'Washer/Dryer In Unit...      allowed   \n",
      "6837  ['Furnished', 'Washer/Dryer In Unit', 'Utiliti...  not allowed   \n",
      "6838  ['Washer/Dryer In Unit', 'Furnished', 'Elevato...  not allowed   \n",
      "6839  ['Washer/Dryer In Unit', 'Furnished', 'Elevato...  not allowed   \n",
      "\n",
      "     Cats_allowed Deposite  Price_INR  \n",
      "0     not allowed        0  2185830.0  \n",
      "1         allowed        0   195190.0  \n",
      "2         allowed        0   108770.0  \n",
      "3         allowed   $1,600   249575.0  \n",
      "4     not allowed        0   521500.0  \n",
      "...           ...      ...        ...  \n",
      "6835  not allowed        0   187392.8  \n",
      "6836      allowed        0   327261.6  \n",
      "6837  not allowed        0   270320.0  \n",
      "6838  not allowed   €1,160   101152.0  \n",
      "6839  not allowed   €1,150   100280.0  \n",
      "\n",
      "[6840 rows x 11 columns]\n"
     ]
    }
   ],
   "source": [
    "import pandas as pd\n",
    "\n",
    "def convert_currency_to_inr(price):\n",
    "    # Check if the value is a string\n",
    "    if isinstance(price, str):\n",
    "        # Extract currency symbol from the string\n",
    "        currency_symbol = price[0]\n",
    "        \n",
    "        # Extract numerical part from the string\n",
    "        amount_str = price[1:].replace(',', '')  # Remove commas from the numerical part\n",
    "        amount = float(amount_str)\n",
    "    else:\n",
    "        # If it's not a string, consider it as a numerical value\n",
    "        currency_symbol = ''\n",
    "        amount = float(price)\n",
    "\n",
    "    # Define exchange rates for different currencies (as of the current date)\n",
    "    exchange_rates = {'$': 74.5, '€': 87.2, '£': 101.8, '₹': 1,'¥':0.55}  # Add more currencies as needed\n",
    "\n",
    "    # Default to 1 if the currency symbol is not in the exchange_rates dictionary\n",
    "    exchange_rate = exchange_rates.get(currency_symbol, 1)\n",
    "\n",
    "    # Convert the amount to INR\n",
    "    inr_amount = amount * exchange_rate\n",
    "    return inr_amount\n",
    "\n",
    "df['Price_INR'] = df['Price'].apply(convert_currency_to_inr)\n",
    "\n",
    "print(df)\n"
   ]
  },
  {
   "cell_type": "code",
   "execution_count": 206,
   "id": "54ca55bf",
   "metadata": {},
   "outputs": [
    {
     "data": {
      "text/plain": [
       "0       2185830.0\n",
       "1        195190.0\n",
       "2        108770.0\n",
       "3        249575.0\n",
       "4        521500.0\n",
       "          ...    \n",
       "6835     187392.8\n",
       "6836     327261.6\n",
       "6837     270320.0\n",
       "6838     101152.0\n",
       "6839     100280.0\n",
       "Name: Price_INR, Length: 6840, dtype: float64"
      ]
     },
     "execution_count": 206,
     "metadata": {},
     "output_type": "execute_result"
    }
   ],
   "source": [
    "df['Price_INR']"
   ]
  },
  {
   "cell_type": "code",
   "execution_count": 207,
   "id": "b544d190",
   "metadata": {},
   "outputs": [],
   "source": [
    "def convert_currency_to_inr(price):\n",
    "    # Check if the value is a string\n",
    "    if isinstance(price, str):\n",
    "        # Extract currency symbol from the string\n",
    "        currency_symbol = price[0]\n",
    "        \n",
    "        # Extract numerical part from the string\n",
    "        amount_str = price[1:].replace(',', '')  # Remove commas from the numerical part\n",
    "\n",
    "        # Replace empty strings with 0\n",
    "        amount = float(amount_str) if amount_str else 0\n",
    "    else:\n",
    "        # If it's not a string, consider it as a numerical value\n",
    "        currency_symbol = ''\n",
    "        amount = float(price) if price is not None and str(price).strip() else 0\n",
    "\n",
    "    # Define exchange rates for different currencies (as of the current date)\n",
    "    exchange_rates = {'$': 74.5, '€': 87.2, '£': 101.8, '₹': 1, '¥': 0.55}  # Add more currencies as needed\n",
    "\n",
    "    # Default to 1 if the currency symbol is not in the exchange_rates dictionary\n",
    "    exchange_rate = exchange_rates.get(currency_symbol, 1)\n",
    "\n",
    "    # Convert the amount to INR\n",
    "    inr_amount = amount * exchange_rate\n",
    "    return inr_amount\n",
    "\n",
    "# Apply the function to the 'Deposite' column and create a new 'Deposite1' column\n",
    "df['Deposite'] = df['Deposite'].apply(convert_currency_to_inr)\n"
   ]
  },
  {
   "cell_type": "code",
   "execution_count": 208,
   "id": "73ee1436",
   "metadata": {},
   "outputs": [
    {
     "name": "stdout",
     "output_type": "stream",
     "text": [
      "Unique Currency Symbols: ['$', '¥', '€', '£']\n"
     ]
    }
   ],
   "source": [
    "import pandas as pd\n",
    "\n",
    "# Function to extract currency symbols\n",
    "def extract_currency_symbol(price):\n",
    "    if isinstance(price, str) and len(price) > 0:\n",
    "        return price[0]\n",
    "    else:\n",
    "        return None\n",
    "\n",
    "# Apply the function to the 'Price' column and get unique currency symbols\n",
    "unique_currency_symbols = df['Price'].apply(extract_currency_symbol).unique()\n",
    "\n",
    "# Filter out None values if any\n",
    "unique_currency_symbols = [symbol for symbol in unique_currency_symbols if symbol is not None]\n",
    "\n",
    "# Display the unique currency symbols\n",
    "print(\"Unique Currency Symbols:\", unique_currency_symbols)\n"
   ]
  },
  {
   "cell_type": "code",
   "execution_count": 209,
   "id": "6431d107",
   "metadata": {},
   "outputs": [
    {
     "data": {
      "text/plain": [
       "0       3,550sf\n",
       "1       unknown\n",
       "2       1,352sf\n",
       "3       1,300sf\n",
       "4       1,360sf\n",
       "         ...   \n",
       "6835        24m\n",
       "6836        27m\n",
       "6837        60m\n",
       "6838    unknown\n",
       "6839    unknown\n",
       "Name: Area, Length: 6840, dtype: object"
      ]
     },
     "execution_count": 209,
     "metadata": {},
     "output_type": "execute_result"
    }
   ],
   "source": [
    "df['Area']"
   ]
  },
  {
   "cell_type": "code",
   "execution_count": 210,
   "id": "b65b3ed7",
   "metadata": {},
   "outputs": [],
   "source": [
    "df['Area'] = df['Area'].replace('unknown', 0)"
   ]
  },
  {
   "cell_type": "code",
   "execution_count": 211,
   "id": "2c5f4b7d",
   "metadata": {},
   "outputs": [],
   "source": [
    "df['Area'] = df['Area'].astype(str).str.replace(',', '')"
   ]
  },
  {
   "cell_type": "code",
   "execution_count": 212,
   "id": "36742f5e",
   "metadata": {},
   "outputs": [
    {
     "name": "stdout",
     "output_type": "stream",
     "text": [
      "           City    Price   Rooms  Bathrooms    Area  \\\n",
      "0     Austin TX  $29,340       7        7.0  3550sf   \n",
      "1     Austin TX   $2,620       1        1.0       0   \n",
      "2     Austin TX   $1,460       3        2.0  1352sf   \n",
      "3     Austin TX   $3,350       3        1.0  1300sf   \n",
      "4     Austin TX   $7,000       2        2.0  1360sf   \n",
      "...         ...      ...     ...        ...     ...   \n",
      "6835     Munich   €2,149       1        1.0     24m   \n",
      "6836     Munich   €3,753  Studio        1.0     27m   \n",
      "6837     Munich   €3,100       5        1.0     60m   \n",
      "6838     Munich   €1,160       4        2.0       0   \n",
      "6839     Munich   €1,150       4        2.0       0   \n",
      "\n",
      "                                               Location  \\\n",
      "0                                            Austin, TX   \n",
      "1                                   801 West 5th Street   \n",
      "2                           Austin, Indian Oaks, TX, US   \n",
      "3                                         5505 Avenue H   \n",
      "4     Seaholm Residences, 222 West Avenue, Austin, T...   \n",
      "...                                                 ...   \n",
      "6835  Leica Geosystems GmbH Vertrieb Deutschland, Tr...   \n",
      "6836           Westendstraße 170, 80686 Munich, Germany   \n",
      "6837             Baaderstraße 43, 80469 Munich, Germany   \n",
      "6838            Barer Straße 58b, 80799 Munich, Germany   \n",
      "6839  Städtisches Sophie-Scholl-Gymnasium, Borschtal...   \n",
      "\n",
      "                                              Amenities Dogs_allowed  \\\n",
      "0     ['Air Conditioning', 'Balcony', 'Parking', 'Po...  not allowed   \n",
      "1                                                    []      allowed   \n",
      "2                                                    []      allowed   \n",
      "3     ['Storage', 'Air Conditioning', 'Dishwasher', ...      allowed   \n",
      "4                                                    []  not allowed   \n",
      "...                                                 ...          ...   \n",
      "6835  ['Furnished', 'Parking', 'Washer/Dryer In Unit...  not allowed   \n",
      "6836  ['Furnished', 'Parking', 'Washer/Dryer In Unit...      allowed   \n",
      "6837  ['Furnished', 'Washer/Dryer In Unit', 'Utiliti...  not allowed   \n",
      "6838  ['Washer/Dryer In Unit', 'Furnished', 'Elevato...  not allowed   \n",
      "6839  ['Washer/Dryer In Unit', 'Furnished', 'Elevato...  not allowed   \n",
      "\n",
      "     Cats_allowed  Deposite  Price_INR  Converted_Area  \n",
      "0     not allowed       0.0  2185830.0        3550.000  \n",
      "1         allowed       0.0   195190.0           0.000  \n",
      "2         allowed       0.0   108770.0        1352.000  \n",
      "3         allowed  119200.0   249575.0        1300.000  \n",
      "4     not allowed       0.0   521500.0        1360.000  \n",
      "...           ...       ...        ...             ...  \n",
      "6835  not allowed       0.0   187392.8         258.336  \n",
      "6836      allowed       0.0   327261.6         290.628  \n",
      "6837  not allowed       0.0   270320.0         645.840  \n",
      "6838  not allowed  101152.0   101152.0           0.000  \n",
      "6839  not allowed  100280.0   100280.0           0.000  \n",
      "\n",
      "[6840 rows x 12 columns]\n",
      "\n",
      "Number of unique units in 'Area': 1294\n"
     ]
    }
   ],
   "source": [
    "import pandas as pd\n",
    "\n",
    "\n",
    "\n",
    "# Function to convert square meters to square feet\n",
    "def convert_to_sqft(area):\n",
    "    if isinstance(area, str):\n",
    "        # Extract numerical part from the string\n",
    "        num_part = ''.join(c for c in area if c.isdigit() or c == '.')\n",
    "\n",
    "        # Check if 'm' or 'sqft' is present in the original string\n",
    "        if 'm' in area.lower():\n",
    "            # Conversion factor: 1 square meter = 10.764 square feet\n",
    "            return float(num_part) * 10.764\n",
    "        elif 'sf' in area.lower():\n",
    "            return float(num_part)\n",
    "    \n",
    "    # If it's not a string or doesn't contain 'm' or 'sqft', consider it as a numerical value\n",
    "    return float(area) if area != '' else 0\n",
    "\n",
    "# Apply the function to the 'Area' column\n",
    "df['Converted_Area'] = df['Area'].apply(convert_to_sqft)\n",
    "\n",
    "# Count the number of unique values in the 'Converted_Area' column\n",
    "unique_units_count = df['Converted_Area'].nunique()\n",
    "\n",
    "\n",
    "print(df)\n",
    "print(\"\\nNumber of unique units in 'Area':\", unique_units_count)\n"
   ]
  },
  {
   "cell_type": "code",
   "execution_count": 213,
   "id": "06935256",
   "metadata": {},
   "outputs": [
    {
     "data": {
      "text/plain": [
       "0       3550.000\n",
       "1          0.000\n",
       "2       1352.000\n",
       "3       1300.000\n",
       "4       1360.000\n",
       "          ...   \n",
       "6835     258.336\n",
       "6836     290.628\n",
       "6837     645.840\n",
       "6838       0.000\n",
       "6839       0.000\n",
       "Name: Converted_Area, Length: 6840, dtype: float64"
      ]
     },
     "execution_count": 213,
     "metadata": {},
     "output_type": "execute_result"
    }
   ],
   "source": [
    "df['Converted_Area']"
   ]
  },
  {
   "cell_type": "code",
   "execution_count": 214,
   "id": "99819f19",
   "metadata": {},
   "outputs": [
    {
     "name": "stdout",
     "output_type": "stream",
     "text": [
      "Number of areas with 'm' at the end: 682\n"
     ]
    }
   ],
   "source": [
    "import pandas as pd\n",
    "\n",
    "\n",
    "# Function to check if the last word of a string ends with 'm'\n",
    "def ends_with_m(area_str):\n",
    "    if isinstance(area_str, str):\n",
    "        words = area_str.split()\n",
    "        return words and words[-1].endswith('m')\n",
    "    return False\n",
    "\n",
    "# Count the number of areas with 'm' at the end\n",
    "count_areas_with_m = df['Area'].apply(ends_with_m).sum()\n",
    "\n",
    "# Display the count\n",
    "print(\"Number of areas with 'm' at the end:\", count_areas_with_m)\n"
   ]
  },
  {
   "cell_type": "code",
   "execution_count": 119,
   "id": "b8d5cdb0",
   "metadata": {},
   "outputs": [
    {
     "name": "stdout",
     "output_type": "stream",
     "text": [
      "Number of areas with 'm' at the end: 682\n",
      "Indices at which areas with 'm' at the end are present: [2247, 2355, 2357, 2359, 2371, 2372, 2378, 2380, 2389, 2392, 2399, 2401, 2403, 2411, 2413, 2415, 2423, 2427, 2428, 2433, 2452, 2463, 2465, 2470, 2471, 2476, 2479, 2481, 2483, 2484, 2488, 2493, 2503, 2511, 2517, 2523, 2531, 2536, 2557, 2565, 2619, 2623, 2637, 2670, 2810, 2813, 2814, 2818, 2822, 2835, 2836, 2857, 2860, 2875, 2881, 2882, 2894, 2895, 2897, 2905, 2906, 2908, 2909, 2913, 2919, 2921, 2924, 2930, 2942, 2950, 2954, 2959, 2961, 2963, 2979, 2982, 2983, 3019, 3025, 3033, 3036, 3045, 3054, 3062, 3127, 3135, 3141, 3147, 3155, 3160, 3181, 3189, 3244, 3249, 3262, 3294, 3434, 3437, 3438, 3442, 3446, 3459, 3460, 3481, 3484, 3499, 3505, 3506, 3518, 3519, 3521, 3529, 3530, 3532, 3533, 3537, 3543, 3545, 3548, 3554, 3566, 3574, 3578, 3583, 3585, 3587, 3603, 3606, 3607, 3643, 3649, 3657, 3660, 3669, 3678, 3686, 5304, 5307, 5313, 5317, 5318, 5319, 5320, 5324, 5326, 5327, 5329, 5330, 5332, 5333, 5334, 5335, 5337, 5338, 5340, 5341, 5342, 5345, 5347, 5351, 5352, 5353, 5354, 5355, 5356, 5357, 5358, 5363, 5364, 5366, 5367, 5368, 5369, 5371, 5372, 5373, 5374, 5375, 5376, 5378, 5380, 5383, 5385, 5386, 5387, 5388, 5389, 5390, 5391, 5392, 5393, 5396, 5398, 5399, 5400, 5403, 5404, 5409, 5410, 5412, 5413, 5414, 5415, 5416, 5417, 5422, 5423, 5426, 5427, 5428, 5429, 5430, 5433, 5435, 5436, 5437, 5438, 5439, 5440, 5441, 5445, 5446, 5447, 5449, 5451, 5452, 5455, 5458, 5459, 5461, 5462, 5463, 5464, 5465, 5468, 5469, 5471, 5472, 5473, 5475, 5476, 5477, 5479, 5481, 5484, 5485, 5488, 5489, 5491, 5497, 5499, 5502, 5505, 5512, 5535, 5550, 5556, 5561, 5590, 5593, 5616, 5617, 5628, 5820, 5844, 5866, 5868, 5877, 5908, 5928, 5941, 6145, 6218, 6219, 6220, 6221, 6226, 6227, 6228, 6233, 6235, 6236, 6237, 6239, 6240, 6241, 6242, 6243, 6244, 6245, 6246, 6249, 6250, 6251, 6252, 6255, 6256, 6257, 6259, 6262, 6263, 6264, 6265, 6266, 6267, 6269, 6270, 6271, 6273, 6274, 6276, 6277, 6278, 6281, 6283, 6286, 6287, 6289, 6290, 6291, 6293, 6295, 6297, 6299, 6301, 6302, 6304, 6305, 6307, 6309, 6311, 6313, 6315, 6316, 6317, 6318, 6319, 6321, 6322, 6323, 6324, 6325, 6326, 6327, 6328, 6329, 6331, 6333, 6334, 6337, 6339, 6340, 6341, 6342, 6343, 6345, 6346, 6348, 6349, 6350, 6351, 6353, 6355, 6356, 6357, 6358, 6359, 6360, 6361, 6363, 6364, 6365, 6366, 6367, 6371, 6372, 6373, 6374, 6375, 6376, 6377, 6380, 6381, 6382, 6384, 6385, 6387, 6388, 6389, 6391, 6393, 6394, 6395, 6398, 6399, 6401, 6403, 6404, 6407, 6409, 6410, 6411, 6413, 6415, 6417, 6418, 6420, 6421, 6424, 6425, 6427, 6431, 6432, 6434, 6435, 6436, 6437, 6438, 6439, 6442, 6443, 6444, 6446, 6447, 6448, 6449, 6451, 6452, 6454, 6455, 6456, 6457, 6458, 6459, 6463, 6465, 6469, 6470, 6476, 6477, 6480, 6481, 6482, 6483, 6484, 6486, 6487, 6489, 6490, 6494, 6495, 6497, 6501, 6502, 6503, 6504, 6505, 6508, 6509, 6510, 6511, 6515, 6517, 6518, 6519, 6520, 6523, 6524, 6525, 6527, 6528, 6530, 6531, 6532, 6534, 6537, 6539, 6540, 6541, 6542, 6543, 6544, 6547, 6548, 6549, 6550, 6551, 6552, 6553, 6554, 6555, 6556, 6557, 6558, 6559, 6561, 6562, 6563, 6565, 6566, 6568, 6569, 6571, 6572, 6573, 6574, 6575, 6576, 6578, 6580, 6581, 6582, 6585, 6586, 6587, 6588, 6590, 6591, 6592, 6593, 6595, 6596, 6597, 6598, 6600, 6601, 6602, 6603, 6604, 6605, 6607, 6610, 6611, 6615, 6616, 6617, 6619, 6622, 6623, 6626, 6629, 6630, 6631, 6635, 6637, 6639, 6640, 6641, 6643, 6644, 6645, 6646, 6649, 6651, 6652, 6654, 6657, 6658, 6659, 6660, 6661, 6662, 6663, 6664, 6667, 6670, 6671, 6672, 6673, 6674, 6675, 6676, 6678, 6679, 6681, 6683, 6687, 6688, 6689, 6691, 6692, 6693, 6694, 6695, 6696, 6697, 6698, 6699, 6701, 6703, 6705, 6706, 6707, 6708, 6710, 6711, 6713, 6717, 6718, 6719, 6720, 6721, 6723, 6724, 6725, 6726, 6727, 6729, 6731, 6732, 6733, 6734, 6735, 6736, 6737, 6739, 6741, 6744, 6746, 6748, 6749, 6750, 6751, 6753, 6754, 6755, 6757, 6758, 6759, 6761, 6763, 6766, 6767, 6769, 6770, 6771, 6773, 6775, 6779, 6781, 6782, 6783, 6784, 6785, 6787, 6788, 6791, 6792, 6793, 6794, 6796, 6797, 6798, 6799, 6801, 6802, 6804, 6805, 6806, 6807, 6809, 6812, 6814, 6815, 6816, 6817, 6819, 6820, 6821, 6822, 6823, 6825, 6826, 6827, 6828, 6829, 6831, 6832, 6833, 6835, 6836, 6837]\n"
     ]
    }
   ],
   "source": [
    "import pandas as pd\n",
    "\n",
    "# Example DataFrame\n",
    "\n",
    "# Function to check if the last word of a string ends with 'm'\n",
    "def ends_with_m(area_str):\n",
    "    if isinstance(area_str, str):\n",
    "        words = area_str.split()\n",
    "        return words and words[-1].endswith('m')\n",
    "    return False\n",
    "\n",
    "# Count the number of areas with 'm' at the end\n",
    "count_areas_with_m = df['Area'].apply(ends_with_m).sum()\n",
    "\n",
    "# Print indices at which areas with 'm' at the end are present\n",
    "indices_areas_with_m = df[df['Area'].apply(ends_with_m)].index.tolist()\n",
    "print(\"Number of areas with 'm' at the end:\", count_areas_with_m)\n",
    "print(\"Indices at which areas with 'm' at the end are present:\", indices_areas_with_m)\n"
   ]
  },
  {
   "cell_type": "code",
   "execution_count": 215,
   "id": "7a5f3658",
   "metadata": {},
   "outputs": [
    {
     "data": {
      "text/plain": [
       "710.424"
      ]
     },
     "execution_count": 215,
     "metadata": {},
     "output_type": "execute_result"
    }
   ],
   "source": [
    "df['Converted_Area'][2403]"
   ]
  },
  {
   "cell_type": "code",
   "execution_count": 122,
   "id": "c22f16fa",
   "metadata": {},
   "outputs": [
    {
     "data": {
      "text/html": [
       "<div>\n",
       "<style scoped>\n",
       "    .dataframe tbody tr th:only-of-type {\n",
       "        vertical-align: middle;\n",
       "    }\n",
       "\n",
       "    .dataframe tbody tr th {\n",
       "        vertical-align: top;\n",
       "    }\n",
       "\n",
       "    .dataframe thead th {\n",
       "        text-align: right;\n",
       "    }\n",
       "</style>\n",
       "<table border=\"1\" class=\"dataframe\">\n",
       "  <thead>\n",
       "    <tr style=\"text-align: right;\">\n",
       "      <th></th>\n",
       "      <th>City</th>\n",
       "      <th>Price</th>\n",
       "      <th>Rooms</th>\n",
       "      <th>Bathrooms</th>\n",
       "      <th>Area</th>\n",
       "      <th>Location</th>\n",
       "      <th>Amenities</th>\n",
       "      <th>Dogs_allowed</th>\n",
       "      <th>Cats_allowed</th>\n",
       "      <th>Deposite</th>\n",
       "      <th>Price_INR</th>\n",
       "      <th>Converted_Area</th>\n",
       "    </tr>\n",
       "  </thead>\n",
       "  <tbody>\n",
       "    <tr>\n",
       "      <th>0</th>\n",
       "      <td>Austin TX</td>\n",
       "      <td>$29,340</td>\n",
       "      <td>7</td>\n",
       "      <td>7.0</td>\n",
       "      <td>3550sf</td>\n",
       "      <td>Austin, TX</td>\n",
       "      <td>['Air Conditioning', 'Balcony', 'Parking', 'Po...</td>\n",
       "      <td>not allowed</td>\n",
       "      <td>not allowed</td>\n",
       "      <td>0</td>\n",
       "      <td>2185830.0</td>\n",
       "      <td>3550.000</td>\n",
       "    </tr>\n",
       "    <tr>\n",
       "      <th>1</th>\n",
       "      <td>Austin TX</td>\n",
       "      <td>$2,620</td>\n",
       "      <td>1</td>\n",
       "      <td>1.0</td>\n",
       "      <td>0</td>\n",
       "      <td>801 West 5th Street</td>\n",
       "      <td>[]</td>\n",
       "      <td>allowed</td>\n",
       "      <td>allowed</td>\n",
       "      <td>0</td>\n",
       "      <td>195190.0</td>\n",
       "      <td>0.000</td>\n",
       "    </tr>\n",
       "    <tr>\n",
       "      <th>2</th>\n",
       "      <td>Austin TX</td>\n",
       "      <td>$1,460</td>\n",
       "      <td>3</td>\n",
       "      <td>2.0</td>\n",
       "      <td>1352sf</td>\n",
       "      <td>Austin, Indian Oaks, TX, US</td>\n",
       "      <td>[]</td>\n",
       "      <td>allowed</td>\n",
       "      <td>allowed</td>\n",
       "      <td>0</td>\n",
       "      <td>108770.0</td>\n",
       "      <td>1352.000</td>\n",
       "    </tr>\n",
       "    <tr>\n",
       "      <th>3</th>\n",
       "      <td>Austin TX</td>\n",
       "      <td>$3,350</td>\n",
       "      <td>3</td>\n",
       "      <td>1.0</td>\n",
       "      <td>1300sf</td>\n",
       "      <td>5505 Avenue H</td>\n",
       "      <td>['Storage', 'Air Conditioning', 'Dishwasher', ...</td>\n",
       "      <td>allowed</td>\n",
       "      <td>allowed</td>\n",
       "      <td>$1,600</td>\n",
       "      <td>249575.0</td>\n",
       "      <td>1300.000</td>\n",
       "    </tr>\n",
       "    <tr>\n",
       "      <th>4</th>\n",
       "      <td>Austin TX</td>\n",
       "      <td>$7,000</td>\n",
       "      <td>2</td>\n",
       "      <td>2.0</td>\n",
       "      <td>1360sf</td>\n",
       "      <td>Seaholm Residences, 222 West Avenue, Austin, T...</td>\n",
       "      <td>[]</td>\n",
       "      <td>not allowed</td>\n",
       "      <td>not allowed</td>\n",
       "      <td>0</td>\n",
       "      <td>521500.0</td>\n",
       "      <td>1360.000</td>\n",
       "    </tr>\n",
       "    <tr>\n",
       "      <th>...</th>\n",
       "      <td>...</td>\n",
       "      <td>...</td>\n",
       "      <td>...</td>\n",
       "      <td>...</td>\n",
       "      <td>...</td>\n",
       "      <td>...</td>\n",
       "      <td>...</td>\n",
       "      <td>...</td>\n",
       "      <td>...</td>\n",
       "      <td>...</td>\n",
       "      <td>...</td>\n",
       "      <td>...</td>\n",
       "    </tr>\n",
       "    <tr>\n",
       "      <th>6835</th>\n",
       "      <td>Munich</td>\n",
       "      <td>€2,149</td>\n",
       "      <td>1</td>\n",
       "      <td>1.0</td>\n",
       "      <td>24m</td>\n",
       "      <td>Leica Geosystems GmbH Vertrieb Deutschland, Tr...</td>\n",
       "      <td>['Furnished', 'Parking', 'Washer/Dryer In Unit...</td>\n",
       "      <td>not allowed</td>\n",
       "      <td>not allowed</td>\n",
       "      <td>0</td>\n",
       "      <td>187392.8</td>\n",
       "      <td>258.336</td>\n",
       "    </tr>\n",
       "    <tr>\n",
       "      <th>6836</th>\n",
       "      <td>Munich</td>\n",
       "      <td>€3,753</td>\n",
       "      <td>Studio</td>\n",
       "      <td>1.0</td>\n",
       "      <td>27m</td>\n",
       "      <td>Westendstraße 170, 80686 Munich, Germany</td>\n",
       "      <td>['Furnished', 'Parking', 'Washer/Dryer In Unit...</td>\n",
       "      <td>allowed</td>\n",
       "      <td>allowed</td>\n",
       "      <td>0</td>\n",
       "      <td>327261.6</td>\n",
       "      <td>290.628</td>\n",
       "    </tr>\n",
       "    <tr>\n",
       "      <th>6837</th>\n",
       "      <td>Munich</td>\n",
       "      <td>€3,100</td>\n",
       "      <td>5</td>\n",
       "      <td>1.0</td>\n",
       "      <td>60m</td>\n",
       "      <td>Baaderstraße 43, 80469 Munich, Germany</td>\n",
       "      <td>['Furnished', 'Washer/Dryer In Unit', 'Utiliti...</td>\n",
       "      <td>not allowed</td>\n",
       "      <td>not allowed</td>\n",
       "      <td>0</td>\n",
       "      <td>270320.0</td>\n",
       "      <td>645.840</td>\n",
       "    </tr>\n",
       "    <tr>\n",
       "      <th>6838</th>\n",
       "      <td>Munich</td>\n",
       "      <td>€1,160</td>\n",
       "      <td>4</td>\n",
       "      <td>2.0</td>\n",
       "      <td>0</td>\n",
       "      <td>Barer Straße 58b, 80799 Munich, Germany</td>\n",
       "      <td>['Washer/Dryer In Unit', 'Furnished', 'Elevato...</td>\n",
       "      <td>not allowed</td>\n",
       "      <td>not allowed</td>\n",
       "      <td>€1,160</td>\n",
       "      <td>101152.0</td>\n",
       "      <td>0.000</td>\n",
       "    </tr>\n",
       "    <tr>\n",
       "      <th>6839</th>\n",
       "      <td>Munich</td>\n",
       "      <td>€1,150</td>\n",
       "      <td>4</td>\n",
       "      <td>2.0</td>\n",
       "      <td>0</td>\n",
       "      <td>Städtisches Sophie-Scholl-Gymnasium, Borschtal...</td>\n",
       "      <td>['Washer/Dryer In Unit', 'Furnished', 'Elevato...</td>\n",
       "      <td>not allowed</td>\n",
       "      <td>not allowed</td>\n",
       "      <td>€1,150</td>\n",
       "      <td>100280.0</td>\n",
       "      <td>0.000</td>\n",
       "    </tr>\n",
       "  </tbody>\n",
       "</table>\n",
       "<p>6840 rows × 12 columns</p>\n",
       "</div>"
      ],
      "text/plain": [
       "           City    Price   Rooms  Bathrooms    Area  \\\n",
       "0     Austin TX  $29,340       7        7.0  3550sf   \n",
       "1     Austin TX   $2,620       1        1.0       0   \n",
       "2     Austin TX   $1,460       3        2.0  1352sf   \n",
       "3     Austin TX   $3,350       3        1.0  1300sf   \n",
       "4     Austin TX   $7,000       2        2.0  1360sf   \n",
       "...         ...      ...     ...        ...     ...   \n",
       "6835     Munich   €2,149       1        1.0     24m   \n",
       "6836     Munich   €3,753  Studio        1.0     27m   \n",
       "6837     Munich   €3,100       5        1.0     60m   \n",
       "6838     Munich   €1,160       4        2.0       0   \n",
       "6839     Munich   €1,150       4        2.0       0   \n",
       "\n",
       "                                               Location  \\\n",
       "0                                            Austin, TX   \n",
       "1                                   801 West 5th Street   \n",
       "2                           Austin, Indian Oaks, TX, US   \n",
       "3                                         5505 Avenue H   \n",
       "4     Seaholm Residences, 222 West Avenue, Austin, T...   \n",
       "...                                                 ...   \n",
       "6835  Leica Geosystems GmbH Vertrieb Deutschland, Tr...   \n",
       "6836           Westendstraße 170, 80686 Munich, Germany   \n",
       "6837             Baaderstraße 43, 80469 Munich, Germany   \n",
       "6838            Barer Straße 58b, 80799 Munich, Germany   \n",
       "6839  Städtisches Sophie-Scholl-Gymnasium, Borschtal...   \n",
       "\n",
       "                                              Amenities Dogs_allowed  \\\n",
       "0     ['Air Conditioning', 'Balcony', 'Parking', 'Po...  not allowed   \n",
       "1                                                    []      allowed   \n",
       "2                                                    []      allowed   \n",
       "3     ['Storage', 'Air Conditioning', 'Dishwasher', ...      allowed   \n",
       "4                                                    []  not allowed   \n",
       "...                                                 ...          ...   \n",
       "6835  ['Furnished', 'Parking', 'Washer/Dryer In Unit...  not allowed   \n",
       "6836  ['Furnished', 'Parking', 'Washer/Dryer In Unit...      allowed   \n",
       "6837  ['Furnished', 'Washer/Dryer In Unit', 'Utiliti...  not allowed   \n",
       "6838  ['Washer/Dryer In Unit', 'Furnished', 'Elevato...  not allowed   \n",
       "6839  ['Washer/Dryer In Unit', 'Furnished', 'Elevato...  not allowed   \n",
       "\n",
       "     Cats_allowed Deposite  Price_INR  Converted_Area  \n",
       "0     not allowed        0  2185830.0        3550.000  \n",
       "1         allowed        0   195190.0           0.000  \n",
       "2         allowed        0   108770.0        1352.000  \n",
       "3         allowed   $1,600   249575.0        1300.000  \n",
       "4     not allowed        0   521500.0        1360.000  \n",
       "...           ...      ...        ...             ...  \n",
       "6835  not allowed        0   187392.8         258.336  \n",
       "6836      allowed        0   327261.6         290.628  \n",
       "6837  not allowed        0   270320.0         645.840  \n",
       "6838  not allowed   €1,160   101152.0           0.000  \n",
       "6839  not allowed   €1,150   100280.0           0.000  \n",
       "\n",
       "[6840 rows x 12 columns]"
      ]
     },
     "execution_count": 122,
     "metadata": {},
     "output_type": "execute_result"
    }
   ],
   "source": [
    "df"
   ]
  },
  {
   "cell_type": "code",
   "execution_count": 216,
   "id": "96c7f973",
   "metadata": {},
   "outputs": [],
   "source": [
    "df['Amenities']=df['Amenities'].fillna(value=0)\n",
    "df['Amenities']=df['Amenities'].replace('nan',0)"
   ]
  },
  {
   "cell_type": "code",
   "execution_count": 217,
   "id": "e21ecc82",
   "metadata": {},
   "outputs": [
    {
     "name": "stdout",
     "output_type": "stream",
     "text": [
      "Updated DataFrame:\n",
      "           City    Price   Rooms  Bathrooms    Area  \\\n",
      "0     Austin TX  $29,340       7        7.0  3550sf   \n",
      "1     Austin TX   $2,620       1        1.0       0   \n",
      "2     Austin TX   $1,460       3        2.0  1352sf   \n",
      "3     Austin TX   $3,350       3        1.0  1300sf   \n",
      "4     Austin TX   $7,000       2        2.0  1360sf   \n",
      "...         ...      ...     ...        ...     ...   \n",
      "6835     Munich   €2,149       1        1.0     24m   \n",
      "6836     Munich   €3,753  Studio        1.0     27m   \n",
      "6837     Munich   €3,100       5        1.0     60m   \n",
      "6838     Munich   €1,160       4        2.0       0   \n",
      "6839     Munich   €1,150       4        2.0       0   \n",
      "\n",
      "                                               Location  \\\n",
      "0                                            Austin, TX   \n",
      "1                                   801 West 5th Street   \n",
      "2                           Austin, Indian Oaks, TX, US   \n",
      "3                                         5505 Avenue H   \n",
      "4     Seaholm Residences, 222 West Avenue, Austin, T...   \n",
      "...                                                 ...   \n",
      "6835  Leica Geosystems GmbH Vertrieb Deutschland, Tr...   \n",
      "6836           Westendstraße 170, 80686 Munich, Germany   \n",
      "6837             Baaderstraße 43, 80469 Munich, Germany   \n",
      "6838            Barer Straße 58b, 80799 Munich, Germany   \n",
      "6839  Städtisches Sophie-Scholl-Gymnasium, Borschtal...   \n",
      "\n",
      "                                              Amenities Dogs_allowed  \\\n",
      "0     ['Air Conditioning', 'Balcony', 'Parking', 'Po...  not allowed   \n",
      "1                                                    []      allowed   \n",
      "2                                                    []      allowed   \n",
      "3     ['Storage', 'Air Conditioning', 'Dishwasher', ...      allowed   \n",
      "4                                                    []  not allowed   \n",
      "...                                                 ...          ...   \n",
      "6835  ['Furnished', 'Parking', 'Washer/Dryer In Unit...  not allowed   \n",
      "6836  ['Furnished', 'Parking', 'Washer/Dryer In Unit...      allowed   \n",
      "6837  ['Furnished', 'Washer/Dryer In Unit', 'Utiliti...  not allowed   \n",
      "6838  ['Washer/Dryer In Unit', 'Furnished', 'Elevato...  not allowed   \n",
      "6839  ['Washer/Dryer In Unit', 'Furnished', 'Elevato...  not allowed   \n",
      "\n",
      "     Cats_allowed  Deposite  Price_INR  Converted_Area  \n",
      "0     not allowed       0.0  2185830.0        3550.000  \n",
      "1         allowed       0.0   195190.0           0.000  \n",
      "2         allowed       0.0   108770.0        1352.000  \n",
      "3         allowed  119200.0   249575.0        1300.000  \n",
      "4     not allowed       0.0   521500.0        1360.000  \n",
      "...           ...       ...        ...             ...  \n",
      "6835  not allowed       0.0   187392.8         258.336  \n",
      "6836      allowed       0.0   327261.6         290.628  \n",
      "6837  not allowed       0.0   270320.0         645.840  \n",
      "6838  not allowed  101152.0   101152.0           0.000  \n",
      "6839  not allowed  100280.0   100280.0           0.000  \n",
      "\n",
      "[6840 rows x 12 columns]\n"
     ]
    }
   ],
   "source": [
    "import pandas as pd\n",
    "\n",
    "# Replace 0 with an empty list in the 'List_Column'\n",
    "df['Amenities'] = df['Amenities'].apply(lambda x: [] if isinstance(x, list) and 0 in x else x)\n",
    "\n",
    "# Display the updated DataFrame\n",
    "print(\"Updated DataFrame:\")\n",
    "print(df)"
   ]
  },
  {
   "cell_type": "code",
   "execution_count": 218,
   "id": "3ab9aa5a",
   "metadata": {},
   "outputs": [],
   "source": [
    "df['Amenities'] = df['Amenities'].astype(str)"
   ]
  },
  {
   "cell_type": "code",
   "execution_count": 219,
   "id": "57715a5c",
   "metadata": {},
   "outputs": [],
   "source": [
    "max_index = df['Amenities'].apply(len).idxmax()"
   ]
  },
  {
   "cell_type": "code",
   "execution_count": 220,
   "id": "98509206",
   "metadata": {},
   "outputs": [
    {
     "data": {
      "text/plain": [
       "2818"
      ]
     },
     "execution_count": 220,
     "metadata": {},
     "output_type": "execute_result"
    }
   ],
   "source": [
    "max_index"
   ]
  },
  {
   "cell_type": "code",
   "execution_count": 221,
   "id": "ea588b09",
   "metadata": {},
   "outputs": [
    {
     "data": {
      "text/plain": [
       "\"['Washer/Dryer In Unit', 'Air Conditioning', 'Hardwood Floors', 'Dishwasher', 'Beach View', 'Roof Deck', 'Furnished', 'Student Friendly', 'Utilities Included', 'Balcony', 'Garden']\""
      ]
     },
     "execution_count": 221,
     "metadata": {},
     "output_type": "execute_result"
    }
   ],
   "source": [
    "df['Amenities'][2818]"
   ]
  },
  {
   "cell_type": "code",
   "execution_count": 222,
   "id": "b29cabf4",
   "metadata": {},
   "outputs": [],
   "source": [
    "df['sno'] = range(1, len(df) + 1)"
   ]
  },
  {
   "cell_type": "code",
   "execution_count": 223,
   "id": "2d0cba09",
   "metadata": {},
   "outputs": [
    {
     "name": "stdout",
     "output_type": "stream",
     "text": [
      "           City    Price   Rooms  Bathrooms    Area  \\\n",
      "0     Austin TX  $29,340       7        7.0  3550sf   \n",
      "1     Austin TX   $2,620       1        1.0       0   \n",
      "2     Austin TX   $1,460       3        2.0  1352sf   \n",
      "3     Austin TX   $3,350       3        1.0  1300sf   \n",
      "4     Austin TX   $7,000       2        2.0  1360sf   \n",
      "...         ...      ...     ...        ...     ...   \n",
      "6835     Munich   €2,149       1        1.0     24m   \n",
      "6836     Munich   €3,753  Studio        1.0     27m   \n",
      "6837     Munich   €3,100       5        1.0     60m   \n",
      "6838     Munich   €1,160       4        2.0       0   \n",
      "6839     Munich   €1,150       4        2.0       0   \n",
      "\n",
      "                                               Location  \\\n",
      "0                                            Austin, TX   \n",
      "1                                   801 West 5th Street   \n",
      "2                           Austin, Indian Oaks, TX, US   \n",
      "3                                         5505 Avenue H   \n",
      "4     Seaholm Residences, 222 West Avenue, Austin, T...   \n",
      "...                                                 ...   \n",
      "6835  Leica Geosystems GmbH Vertrieb Deutschland, Tr...   \n",
      "6836           Westendstraße 170, 80686 Munich, Germany   \n",
      "6837             Baaderstraße 43, 80469 Munich, Germany   \n",
      "6838            Barer Straße 58b, 80799 Munich, Germany   \n",
      "6839  Städtisches Sophie-Scholl-Gymnasium, Borschtal...   \n",
      "\n",
      "                                              Amenities Dogs_allowed  \\\n",
      "0     [Air Conditioning, Balcony, Parking, Pool, Dis...  not allowed   \n",
      "1                                                    []      allowed   \n",
      "2                                                    []      allowed   \n",
      "3     [Storage, Air Conditioning, Dishwasher, Hardwo...      allowed   \n",
      "4                                                    []  not allowed   \n",
      "...                                                 ...          ...   \n",
      "6835  [Furnished, Parking, Washer/Dryer In Unit, Air...  not allowed   \n",
      "6836  [Furnished, Parking, Washer/Dryer In Unit, Uti...      allowed   \n",
      "6837  [Furnished, Washer/Dryer In Unit, Utilities In...  not allowed   \n",
      "6838  [Washer/Dryer In Unit, Furnished, Elevator, Di...  not allowed   \n",
      "6839  [Washer/Dryer In Unit, Furnished, Elevator, Di...  not allowed   \n",
      "\n",
      "     Cats_allowed  Deposite  Price_INR  Converted_Area   sno  \n",
      "0     not allowed       0.0  2185830.0        3550.000     1  \n",
      "1         allowed       0.0   195190.0           0.000     2  \n",
      "2         allowed       0.0   108770.0        1352.000     3  \n",
      "3         allowed  119200.0   249575.0        1300.000     4  \n",
      "4     not allowed       0.0   521500.0        1360.000     5  \n",
      "...           ...       ...        ...             ...   ...  \n",
      "6835  not allowed       0.0   187392.8         258.336  6836  \n",
      "6836      allowed       0.0   327261.6         290.628  6837  \n",
      "6837  not allowed       0.0   270320.0         645.840  6838  \n",
      "6838  not allowed  101152.0   101152.0           0.000  6839  \n",
      "6839  not allowed  100280.0   100280.0           0.000  6840  \n",
      "\n",
      "[6840 rows x 13 columns]\n"
     ]
    }
   ],
   "source": [
    "\n",
    "import ast\n",
    "# Convert the string representation of lists back to Python lists\n",
    "df['Amenities'] = df['Amenities'].apply(lambda x: ast.literal_eval(x) if pd.notnull(x) and x != \"None\" else [])\n",
    "\n",
    "# Display the updated DataFrame\n",
    "print(df)\n"
   ]
  },
  {
   "cell_type": "code",
   "execution_count": 224,
   "id": "4ca183cf",
   "metadata": {},
   "outputs": [
    {
     "data": {
      "text/plain": [
       "574"
      ]
     },
     "execution_count": 224,
     "metadata": {},
     "output_type": "execute_result"
    }
   ],
   "source": [
    "df['City'].isna().sum()"
   ]
  },
  {
   "cell_type": "code",
   "execution_count": 225,
   "id": "676be97f",
   "metadata": {},
   "outputs": [
    {
     "data": {
      "text/plain": [
       "574"
      ]
     },
     "execution_count": 225,
     "metadata": {},
     "output_type": "execute_result"
    }
   ],
   "source": [
    "df['Price'].isna().sum()"
   ]
  },
  {
   "cell_type": "code",
   "execution_count": 226,
   "id": "e8cf25da",
   "metadata": {},
   "outputs": [],
   "source": [
    "nan_count = (df['City'] == 'NaN').sum()"
   ]
  },
  {
   "cell_type": "code",
   "execution_count": 227,
   "id": "e7eabf25",
   "metadata": {},
   "outputs": [
    {
     "data": {
      "text/plain": [
       "0"
      ]
     },
     "execution_count": 227,
     "metadata": {},
     "output_type": "execute_result"
    }
   ],
   "source": [
    "nan_count"
   ]
  },
  {
   "cell_type": "code",
   "execution_count": 228,
   "id": "0834aa27",
   "metadata": {},
   "outputs": [],
   "source": [
    "df = df.dropna(subset=['City'])\n",
    "df = df.reset_index(drop=True)"
   ]
  },
  {
   "cell_type": "code",
   "execution_count": null,
   "id": "0c55b803",
   "metadata": {},
   "outputs": [],
   "source": []
  },
  {
   "cell_type": "code",
   "execution_count": 229,
   "id": "0c71d9cd",
   "metadata": {},
   "outputs": [
    {
     "data": {
      "text/plain": [
       "City\n",
       "Austin TX         286\n",
       "Buffalo NY        286\n",
       "Frankfurt         286\n",
       "Birmingham        286\n",
       "Amsterdam         286\n",
       "Perth             286\n",
       "Tokyo             286\n",
       "Sydney            286\n",
       "Melbourne         286\n",
       "Brisbane          286\n",
       "Toronto, CA       286\n",
       "Vancouver, CA     286\n",
       "Toronto, CA       286\n",
       "Vancouver, CA     286\n",
       "Ottawa,CA         286\n",
       "Orlando,FL,USA    286\n",
       "Las Vegas,NV      286\n",
       "New Jersey,USA    286\n",
       "Munich            286\n",
       "Miami,FL          284\n",
       "Dallas            284\n",
       "Glasgow           264\n",
       "Name: count, dtype: int64"
      ]
     },
     "execution_count": 229,
     "metadata": {},
     "output_type": "execute_result"
    }
   ],
   "source": [
    "df['City'].value_counts()"
   ]
  },
  {
   "cell_type": "code",
   "execution_count": 230,
   "id": "95797a1a",
   "metadata": {},
   "outputs": [],
   "source": [
    "df['City'] = df['City'].replace('Vancouver, CA ','Vancouver, CA')\n",
    "df['City'] = df['City'].replace('Toronto, CA ','Toronto, CA')\n"
   ]
  },
  {
   "cell_type": "code",
   "execution_count": 231,
   "id": "01caa676",
   "metadata": {},
   "outputs": [
    {
     "data": {
      "text/plain": [
       "City\n",
       "Vancouver, CA     572\n",
       "Toronto, CA       572\n",
       "Austin TX         286\n",
       "Melbourne         286\n",
       "Frankfurt         286\n",
       "Birmingham        286\n",
       "Amsterdam         286\n",
       "Perth             286\n",
       "Tokyo             286\n",
       "Sydney            286\n",
       "Brisbane          286\n",
       "Buffalo NY        286\n",
       "Ottawa,CA         286\n",
       "Orlando,FL,USA    286\n",
       "Las Vegas,NV      286\n",
       "New Jersey,USA    286\n",
       "Munich            286\n",
       "Miami,FL          284\n",
       "Dallas            284\n",
       "Glasgow           264\n",
       "Name: count, dtype: int64"
      ]
     },
     "execution_count": 231,
     "metadata": {},
     "output_type": "execute_result"
    }
   ],
   "source": [
    "df['City'].value_counts()"
   ]
  },
  {
   "cell_type": "code",
   "execution_count": 187,
   "id": "6ca2fdd2",
   "metadata": {},
   "outputs": [],
   "source": [
    "unique_amenities = df['Amenities'].explode().unique()"
   ]
  },
  {
   "cell_type": "code",
   "execution_count": 188,
   "id": "06db5236",
   "metadata": {},
   "outputs": [
    {
     "data": {
      "text/plain": [
       "array(['Air Conditioning', 'Balcony', 'Parking', 'Pool', 'Dishwasher',\n",
       "       'Garden', nan, 'Storage', 'Hardwood Floors',\n",
       "       'Wheelchair Accessible', 'Elevator', 'Fireplace', 'Furnished',\n",
       "       'Washer/Dryer In Unit', 'Gym', 'Student Friendly', 'Roof Deck',\n",
       "       'Utilities Included', 'Beach View', 'High Rise', 0, 'Doorman'],\n",
       "      dtype=object)"
      ]
     },
     "execution_count": 188,
     "metadata": {},
     "output_type": "execute_result"
    }
   ],
   "source": [
    "unique_amenities,"
   ]
  },
  {
   "cell_type": "code",
   "execution_count": 232,
   "id": "2fc9e317",
   "metadata": {},
   "outputs": [
    {
     "name": "stdout",
     "output_type": "stream",
     "text": [
      "           City    Price   Rooms  Bathrooms    Area  \\\n",
      "0     Austin TX  $29,340       7        7.0  3550sf   \n",
      "1     Austin TX   $2,620       1        1.0       0   \n",
      "2     Austin TX   $1,460       3        2.0  1352sf   \n",
      "3     Austin TX   $3,350       3        1.0  1300sf   \n",
      "4     Austin TX   $7,000       2        2.0  1360sf   \n",
      "...         ...      ...     ...        ...     ...   \n",
      "6261     Munich   €2,149       1        1.0     24m   \n",
      "6262     Munich   €3,753  Studio        1.0     27m   \n",
      "6263     Munich   €3,100       5        1.0     60m   \n",
      "6264     Munich   €1,160       4        2.0       0   \n",
      "6265     Munich   €1,150       4        2.0       0   \n",
      "\n",
      "                                               Location  \\\n",
      "0                                            Austin, TX   \n",
      "1                                   801 West 5th Street   \n",
      "2                           Austin, Indian Oaks, TX, US   \n",
      "3                                         5505 Avenue H   \n",
      "4     Seaholm Residences, 222 West Avenue, Austin, T...   \n",
      "...                                                 ...   \n",
      "6261  Leica Geosystems GmbH Vertrieb Deutschland, Tr...   \n",
      "6262           Westendstraße 170, 80686 Munich, Germany   \n",
      "6263             Baaderstraße 43, 80469 Munich, Germany   \n",
      "6264            Barer Straße 58b, 80799 Munich, Germany   \n",
      "6265  Städtisches Sophie-Scholl-Gymnasium, Borschtal...   \n",
      "\n",
      "                                              Amenities Dogs_allowed  \\\n",
      "0     [Air Conditioning, Balcony, Parking, Pool, Dis...  not allowed   \n",
      "1                                                    []      allowed   \n",
      "2                                                    []      allowed   \n",
      "3     [Storage, Air Conditioning, Dishwasher, Hardwo...      allowed   \n",
      "4                                                    []  not allowed   \n",
      "...                                                 ...          ...   \n",
      "6261  [Furnished, Parking, Washer/Dryer In Unit, Air...  not allowed   \n",
      "6262  [Furnished, Parking, Washer/Dryer In Unit, Uti...      allowed   \n",
      "6263  [Furnished, Washer/Dryer In Unit, Utilities In...  not allowed   \n",
      "6264  [Washer/Dryer In Unit, Furnished, Elevator, Di...  not allowed   \n",
      "6265  [Washer/Dryer In Unit, Furnished, Elevator, Di...  not allowed   \n",
      "\n",
      "     Cats_allowed  Deposite  ...  Fireplace  Furnished  Washer/Dryer In Unit  \\\n",
      "0     not allowed       0.0  ...          0          0                     0   \n",
      "1         allowed       0.0  ...          0          0                     0   \n",
      "2         allowed       0.0  ...          0          0                     0   \n",
      "3         allowed  119200.0  ...          0          0                     0   \n",
      "4     not allowed       0.0  ...          0          0                     0   \n",
      "...           ...       ...  ...        ...        ...                   ...   \n",
      "6261  not allowed       0.0  ...          0          1                     1   \n",
      "6262      allowed       0.0  ...          0          1                     1   \n",
      "6263  not allowed       0.0  ...          0          1                     1   \n",
      "6264  not allowed  101152.0  ...          0          1                     1   \n",
      "6265  not allowed  100280.0  ...          0          1                     1   \n",
      "\n",
      "      Gym  Student Friendly  Roof Deck  Utilities Included  Beach View  \\\n",
      "0       0                 0          0                   0           0   \n",
      "1       0                 0          0                   0           0   \n",
      "2       0                 0          0                   0           0   \n",
      "3       0                 0          0                   0           0   \n",
      "4       0                 0          0                   0           0   \n",
      "...   ...               ...        ...                 ...         ...   \n",
      "6261    0                 0          0                   0           0   \n",
      "6262    0                 0          0                   1           0   \n",
      "6263    0                 0          0                   1           0   \n",
      "6264    0                 0          0                   0           0   \n",
      "6265    0                 0          0                   0           0   \n",
      "\n",
      "      High Rise  Doorman  \n",
      "0             0        0  \n",
      "1             0        0  \n",
      "2             0        0  \n",
      "3             0        0  \n",
      "4             0        0  \n",
      "...         ...      ...  \n",
      "6261          0        0  \n",
      "6262          0        0  \n",
      "6263          0        0  \n",
      "6264          0        0  \n",
      "6265          0        0  \n",
      "\n",
      "[6266 rows x 33 columns]\n"
     ]
    }
   ],
   "source": [
    "import pandas as pd\n",
    "\n",
    "\n",
    "# List of amenities\n",
    "amenities_list =['Air Conditioning', 'Balcony', 'Parking', 'Pool', 'Dishwasher',\n",
    "       'Garden', 'Storage', 'Hardwood Floors',\n",
    "       'Wheelchair Accessible', 'Elevator', 'Fireplace', 'Furnished',\n",
    "       'Washer/Dryer In Unit', 'Gym', 'Student Friendly', 'Roof Deck',\n",
    "       'Utilities Included', 'Beach View', 'High Rise', 'Doorman']\n",
    "# ['Parking', 'Air Conditioning', 'Pool', 'Elevator', 'Fireplace', 'Wheelchair Accessible', 'Gym', 'Storage', 'High Rise', 'Balcony', 'Dishwasher','Furnished']\n",
    "\n",
    "# Create new columns based on the amenities list\n",
    "for amenity in amenities_list:\n",
    "    df[amenity] = df['Amenities'].apply(lambda x: 1 if isinstance(x, list) and amenity in x else 0)\n",
    "\n",
    "# Drop the original 'Amenities' column if needed\n",
    "# df = df.drop('Amenities', axis=1)\n",
    "\n",
    "# Display the updated DataFrame\n",
    "print(df)\n"
   ]
  },
  {
   "cell_type": "code",
   "execution_count": 233,
   "id": "6c8b22fe",
   "metadata": {},
   "outputs": [
    {
     "data": {
      "text/plain": [
       "City                                                           Austin TX\n",
       "Price                                                             $2,340\n",
       "Rooms                                                                  1\n",
       "Bathrooms                                                            1.0\n",
       "Area                                                              1000sf\n",
       "Location                                                      Austin, TX\n",
       "Amenities                [Air Conditioning, Parking, Dishwasher, Garden]\n",
       "Dogs_allowed                                                 not allowed\n",
       "Cats_allowed                                                 not allowed\n",
       "Deposite                                                             0.0\n",
       "Price_INR                                                       174330.0\n",
       "Converted_Area                                                    1000.0\n",
       "sno                                                                   13\n",
       "Air Conditioning                                                       1\n",
       "Balcony                                                                0\n",
       "Parking                                                                1\n",
       "Pool                                                                   0\n",
       "Dishwasher                                                             1\n",
       "Garden                                                                 1\n",
       "Storage                                                                0\n",
       "Hardwood Floors                                                        0\n",
       "Wheelchair Accessible                                                  0\n",
       "Elevator                                                               0\n",
       "Fireplace                                                              0\n",
       "Furnished                                                              0\n",
       "Washer/Dryer In Unit                                                   0\n",
       "Gym                                                                    0\n",
       "Student Friendly                                                       0\n",
       "Roof Deck                                                              0\n",
       "Utilities Included                                                     0\n",
       "Beach View                                                             0\n",
       "High Rise                                                              0\n",
       "Doorman                                                                0\n",
       "Name: 11, dtype: object"
      ]
     },
     "execution_count": 233,
     "metadata": {},
     "output_type": "execute_result"
    }
   ],
   "source": [
    "df.iloc[11]"
   ]
  },
  {
   "cell_type": "markdown",
   "id": "898b16ec",
   "metadata": {},
   "source": [
    "country code and city code"
   ]
  },
  {
   "cell_type": "code",
   "execution_count": 234,
   "id": "3e572886",
   "metadata": {},
   "outputs": [
    {
     "data": {
      "text/plain": [
       "City\n",
       "Vancouver, CA     572\n",
       "Toronto, CA       572\n",
       "Austin TX         286\n",
       "Melbourne         286\n",
       "Frankfurt         286\n",
       "Birmingham        286\n",
       "Amsterdam         286\n",
       "Perth             286\n",
       "Tokyo             286\n",
       "Sydney            286\n",
       "Brisbane          286\n",
       "Buffalo NY        286\n",
       "Ottawa,CA         286\n",
       "Orlando,FL,USA    286\n",
       "Las Vegas,NV      286\n",
       "New Jersey,USA    286\n",
       "Munich            286\n",
       "Miami,FL          284\n",
       "Dallas            284\n",
       "Glasgow           264\n",
       "Name: count, dtype: int64"
      ]
     },
     "execution_count": 234,
     "metadata": {},
     "output_type": "execute_result"
    }
   ],
   "source": [
    "df['City'].value_counts()"
   ]
  },
  {
   "cell_type": "code",
   "execution_count": 235,
   "id": "df824c8d",
   "metadata": {},
   "outputs": [],
   "source": [
    "cities=df['City'].unique()"
   ]
  },
  {
   "cell_type": "code",
   "execution_count": 236,
   "id": "e1e9519e",
   "metadata": {},
   "outputs": [
    {
     "data": {
      "text/plain": [
       "array(['Austin TX', 'Buffalo NY', 'Dallas', 'New Jersey,USA',\n",
       "       'Las Vegas,NV', 'Miami,FL', 'Orlando,FL,USA', 'Ottawa,CA',\n",
       "       'Vancouver, CA', 'Toronto, CA', 'Brisbane', 'Melbourne', 'Sydney',\n",
       "       'Tokyo', 'Perth', 'Amsterdam', 'Birmingham', 'Glasgow',\n",
       "       'Frankfurt', 'Munich'], dtype=object)"
      ]
     },
     "execution_count": 236,
     "metadata": {},
     "output_type": "execute_result"
    }
   ],
   "source": [
    "cities"
   ]
  },
  {
   "cell_type": "code",
   "execution_count": 238,
   "id": "cb44e18f",
   "metadata": {},
   "outputs": [
    {
     "name": "stdout",
     "output_type": "stream",
     "text": [
      "              City StateCode CountryCode\n",
      "0        Austin TX        TX          US\n",
      "1       Buffalo NY        NY          US\n",
      "2           Dallas        TX          US\n",
      "3   New Jersey,USA        NJ          US\n",
      "4     Las Vegas,NV        NV          US\n",
      "5         Miami,FL        FL          US\n",
      "6   Orlando,FL,USA        FL          US\n",
      "7        Ottawa,CA        CA          CA\n",
      "8    Vancouver, CA        CA          CA\n",
      "9      Toronto, CA        CA          CA\n",
      "10        Brisbane       BRI          AU\n",
      "11       Melbourne       MEL          AU\n",
      "12          Sydney       SYD          AU\n",
      "13           Tokyo       TYO          JP\n",
      "14           Perth       PER          AU\n",
      "15       Amsterdam       AMS          NL\n",
      "16      Birmingham       BIR          UK\n",
      "17         Glasgow       GLA          UK\n",
      "18       Frankfurt       FRA          DE\n",
      "19          Munich       MUC          DE\n"
     ]
    }
   ],
   "source": [
    "city_data = {'City': ['Austin TX', 'Buffalo NY', 'Dallas', 'New Jersey,USA', 'Las Vegas,NV', 'Miami,FL', \n",
    "                 'Orlando,FL,USA', 'Ottawa,CA',\n",
    "                 'Vancouver, CA', 'Toronto, CA', 'Brisbane', 'Melbourne', 'Sydney', 'Tokyo', 'Perth', 'Amsterdam', \n",
    "                 'Birmingham', 'Glasgow', 'Frankfurt', 'Munich'],\n",
    "    'StateCode': ['TX', 'NY', 'TX', 'NJ', 'NV', 'FL', 'FL', 'CA', \n",
    "                  'CA', 'CA', 'BRI', 'MEL', 'SYD', 'TYO', 'PER', 'AMS', 'BIR', 'GLA', 'FRA', 'MUC'],\n",
    "    \n",
    "    'CountryCode': ['US', 'US', 'US', 'US', 'US', 'US', 'US', 'CA', 'CA', 'CA', 'AU', 'AU', 'AU', 'JP',\n",
    "                    'AU', 'NL', 'UK', 'UK', 'DE', 'DE']\n",
    "}\n",
    "\n",
    "# Create the DataFrame\n",
    "city_df = pd.DataFrame(city_data)\n",
    "\n",
    "# Display the DataFrame\n",
    "print(city_df)"
   ]
  },
  {
   "cell_type": "code",
   "execution_count": 239,
   "id": "e8a5a7b2",
   "metadata": {},
   "outputs": [],
   "source": [
    "df = df.dropna(subset=['City'])\n",
    "df = df.reset_index(drop=True)"
   ]
  },
  {
   "cell_type": "code",
   "execution_count": 240,
   "id": "815896c9",
   "metadata": {},
   "outputs": [
    {
     "data": {
      "text/plain": [
       "City                      0\n",
       "Price                     0\n",
       "Rooms                     0\n",
       "Bathrooms                11\n",
       "Area                      0\n",
       "Location                  0\n",
       "Amenities                 0\n",
       "Dogs_allowed             11\n",
       "Cats_allowed             11\n",
       "Deposite                 11\n",
       "Price_INR                 0\n",
       "Converted_Area           11\n",
       "sno                       0\n",
       "Air Conditioning          0\n",
       "Balcony                   0\n",
       "Parking                   0\n",
       "Pool                      0\n",
       "Dishwasher                0\n",
       "Garden                    0\n",
       "Storage                   0\n",
       "Hardwood Floors           0\n",
       "Wheelchair Accessible     0\n",
       "Elevator                  0\n",
       "Fireplace                 0\n",
       "Furnished                 0\n",
       "Washer/Dryer In Unit      0\n",
       "Gym                       0\n",
       "Student Friendly          0\n",
       "Roof Deck                 0\n",
       "Utilities Included        0\n",
       "Beach View                0\n",
       "High Rise                 0\n",
       "Doorman                   0\n",
       "dtype: int64"
      ]
     },
     "execution_count": 240,
     "metadata": {},
     "output_type": "execute_result"
    }
   ],
   "source": [
    "df.isna().sum()"
   ]
  },
  {
   "cell_type": "code",
   "execution_count": 241,
   "id": "7ddc1c08",
   "metadata": {},
   "outputs": [],
   "source": [
    "df = df.merge(city_df, how='left', left_on='City', right_on='City')\n"
   ]
  },
  {
   "cell_type": "code",
   "execution_count": 242,
   "id": "c5550a82",
   "metadata": {
    "scrolled": true
   },
   "outputs": [
    {
     "data": {
      "text/plain": [
       "Index(['City', 'Price', 'Rooms', 'Bathrooms', 'Area', 'Location', 'Amenities',\n",
       "       'Dogs_allowed', 'Cats_allowed', 'Deposite', 'Price_INR',\n",
       "       'Converted_Area', 'sno', 'Air Conditioning', 'Balcony', 'Parking',\n",
       "       'Pool', 'Dishwasher', 'Garden', 'Storage', 'Hardwood Floors',\n",
       "       'Wheelchair Accessible', 'Elevator', 'Fireplace', 'Furnished',\n",
       "       'Washer/Dryer In Unit', 'Gym', 'Student Friendly', 'Roof Deck',\n",
       "       'Utilities Included', 'Beach View', 'High Rise', 'Doorman', 'StateCode',\n",
       "       'CountryCode'],\n",
       "      dtype='object')"
      ]
     },
     "execution_count": 242,
     "metadata": {},
     "output_type": "execute_result"
    }
   ],
   "source": [
    "df.columns"
   ]
  },
  {
   "cell_type": "code",
   "execution_count": 165,
   "id": "b045421c",
   "metadata": {},
   "outputs": [],
   "source": [
    "#Table 1\n",
    "#Sno,Address,City,State code,Country, Rental Price,deposit\n",
    "#table2\n",
    "#Sno, no of bed, no.of bathroom , Area ,pets allowed\n",
    "#table 3\n",
    "#Sno ,Washer/Dryer , AC ,Parking, Fireplace, Dishwasher, Hardwood floors, Roofdeck ,storage"
   ]
  },
  {
   "cell_type": "code",
   "execution_count": 168,
   "id": "a33dd29a",
   "metadata": {
    "scrolled": false
   },
   "outputs": [
    {
     "data": {
      "text/plain": [
       "Index(['City', 'Price', 'Rooms', 'Bathrooms', 'Area', 'Location', 'Amenities',\n",
       "       'Dogs_allowed', 'Cats_allowed', 'Deposite', 'Price_INR',\n",
       "       'Converted_Area', 'sno', 'Parking', 'Air Conditioning', 'Pool',\n",
       "       'Elevator', 'Fireplace', 'Wheelchair Accessible', 'Gym', 'Storage',\n",
       "       'High Rise', 'Balcony', 'Dishwasher', 'Furnished', 'StateCode',\n",
       "       'CountryCode'],\n",
       "      dtype='object')"
      ]
     },
     "execution_count": 168,
     "metadata": {},
     "output_type": "execute_result"
    }
   ],
   "source": [
    "df.columns"
   ]
  },
  {
   "cell_type": "code",
   "execution_count": 244,
   "id": "a2b85ad7",
   "metadata": {},
   "outputs": [
    {
     "data": {
      "text/plain": [
       "array(['7', '1', '3', '2', '4', 'Studio', '5', '8', '6', '15', '9', '12',\n",
       "       '10'], dtype=object)"
      ]
     },
     "execution_count": 244,
     "metadata": {},
     "output_type": "execute_result"
    }
   ],
   "source": [
    "df['Rooms'].unique()"
   ]
  },
  {
   "cell_type": "code",
   "execution_count": 245,
   "id": "0b472ed2",
   "metadata": {},
   "outputs": [],
   "source": [
    "df['Rooms']=df['Rooms'].replace('Studio','1')"
   ]
  },
  {
   "cell_type": "code",
   "execution_count": 247,
   "id": "80f85468",
   "metadata": {},
   "outputs": [],
   "source": [
    "df['Rooms']=df['Rooms'].astype(int)"
   ]
  },
  {
   "cell_type": "code",
   "execution_count": 248,
   "id": "6f774339",
   "metadata": {},
   "outputs": [],
   "source": [
    "#addressandprice\n",
    "columns_to_select = ['sno', 'City', 'Location', 'StateCode', 'CountryCode', 'Price','Price_INR','Deposite']\n",
    "df_price = df[columns_to_select]\n"
   ]
  },
  {
   "cell_type": "code",
   "execution_count": 249,
   "id": "8e3f8615",
   "metadata": {},
   "outputs": [],
   "source": [
    "columns_to_select = ['sno','Rooms','Bathrooms','Area','Converted_Area','Dogs_allowed', 'Cats_allowed']\n",
    "df_bdrms = df[columns_to_select]\n"
   ]
  },
  {
   "cell_type": "code",
   "execution_count": 264,
   "id": "6678f167",
   "metadata": {},
   "outputs": [
    {
     "data": {
      "text/plain": [
       "['Air Conditioning',\n",
       " 'Balcony',\n",
       " 'Parking',\n",
       " 'Pool',\n",
       " 'Dishwasher',\n",
       " 'Garden',\n",
       " 'Storage',\n",
       " 'Hardwood Floors',\n",
       " 'Wheelchair Accessible',\n",
       " 'Elevator',\n",
       " 'Fireplace',\n",
       " 'Furnished',\n",
       " 'Washer/Dryer In Unit',\n",
       " 'Gym',\n",
       " 'Student Friendly',\n",
       " 'Roof Deck',\n",
       " 'Utilities Included',\n",
       " 'Beach View',\n",
       " 'High Rise',\n",
       " 'Doorman']"
      ]
     },
     "execution_count": 264,
     "metadata": {},
     "output_type": "execute_result"
    }
   ],
   "source": [
    "amenities_list"
   ]
  },
  {
   "cell_type": "code",
   "execution_count": 265,
   "id": "90b3474b",
   "metadata": {},
   "outputs": [],
   "source": [
    "columns_to_select = ['sno','Air Conditioning',\n",
    " 'Balcony',\n",
    " 'Parking',\n",
    " 'Pool',\n",
    " 'Dishwasher',\n",
    " 'Garden',\n",
    " 'Storage',\n",
    " 'Hardwood Floors',\n",
    " 'Wheelchair Accessible',\n",
    " 'Elevator',\n",
    " 'Fireplace',\n",
    " 'Furnished',\n",
    " 'Washer/Dryer In Unit',\n",
    " 'Gym',\n",
    " 'Student Friendly',\n",
    " 'Roof Deck',\n",
    " 'Utilities Included',\n",
    " 'Beach View',\n",
    " 'High Rise',\n",
    " 'Doorman']\n",
    "df_amnity = df[columns_to_select]\n"
   ]
  },
  {
   "cell_type": "code",
   "execution_count": 266,
   "id": "aaeb2867",
   "metadata": {},
   "outputs": [
    {
     "data": {
      "text/plain": [
       "Index(['sno', 'Air Conditioning', 'Balcony', 'Parking', 'Pool', 'Dishwasher',\n",
       "       'Garden', 'Storage', 'Hardwood Floors', 'Wheelchair Accessible',\n",
       "       'Elevator', 'Fireplace', 'Furnished', 'Washer/Dryer In Unit', 'Gym',\n",
       "       'Student Friendly', 'Roof Deck', 'Utilities Included', 'Beach View',\n",
       "       'High Rise', 'Doorman'],\n",
       "      dtype='object')"
      ]
     },
     "execution_count": 266,
     "metadata": {},
     "output_type": "execute_result"
    }
   ],
   "source": [
    "df_amnity.columns"
   ]
  },
  {
   "cell_type": "code",
   "execution_count": 251,
   "id": "7f845e1d",
   "metadata": {},
   "outputs": [],
   "source": [
    "df_price.to_csv('pricetable.csv', index=False)"
   ]
  },
  {
   "cell_type": "code",
   "execution_count": 252,
   "id": "14a5c1a7",
   "metadata": {},
   "outputs": [],
   "source": [
    "df_bdrms.to_csv('bathandbed.csv', index=False)"
   ]
  },
  {
   "cell_type": "code",
   "execution_count": 267,
   "id": "4ce48cac",
   "metadata": {},
   "outputs": [],
   "source": [
    "df_amnity.to_csv('ammnities.csv', index=False)"
   ]
  },
  {
   "cell_type": "code",
   "execution_count": 254,
   "id": "0437ac38",
   "metadata": {},
   "outputs": [
    {
     "data": {
      "text/plain": [
       "City                      0\n",
       "Price                     0\n",
       "Rooms                     0\n",
       "Bathrooms                11\n",
       "Area                      0\n",
       "Location                  0\n",
       "Amenities                 0\n",
       "Dogs_allowed             11\n",
       "Cats_allowed             11\n",
       "Deposite                 11\n",
       "Price_INR                 0\n",
       "Converted_Area           11\n",
       "sno                       0\n",
       "Air Conditioning          0\n",
       "Balcony                   0\n",
       "Parking                   0\n",
       "Pool                      0\n",
       "Dishwasher                0\n",
       "Garden                    0\n",
       "Storage                   0\n",
       "Hardwood Floors           0\n",
       "Wheelchair Accessible     0\n",
       "Elevator                  0\n",
       "Fireplace                 0\n",
       "Furnished                 0\n",
       "Washer/Dryer In Unit      0\n",
       "Gym                       0\n",
       "Student Friendly          0\n",
       "Roof Deck                 0\n",
       "Utilities Included        0\n",
       "Beach View                0\n",
       "High Rise                 0\n",
       "Doorman                   0\n",
       "StateCode                 0\n",
       "CountryCode               0\n",
       "dtype: int64"
      ]
     },
     "execution_count": 254,
     "metadata": {},
     "output_type": "execute_result"
    }
   ],
   "source": [
    "df.isnull().sum()"
   ]
  },
  {
   "cell_type": "code",
   "execution_count": 255,
   "id": "0d19def7",
   "metadata": {},
   "outputs": [
    {
     "name": "stdout",
     "output_type": "stream",
     "text": [
      "<class 'pandas.core.frame.DataFrame'>\n",
      "RangeIndex: 6266 entries, 0 to 6265\n",
      "Data columns (total 35 columns):\n",
      " #   Column                 Non-Null Count  Dtype  \n",
      "---  ------                 --------------  -----  \n",
      " 0   City                   6266 non-null   object \n",
      " 1   Price                  6266 non-null   object \n",
      " 2   Rooms                  6266 non-null   int32  \n",
      " 3   Bathrooms              6255 non-null   float64\n",
      " 4   Area                   6266 non-null   object \n",
      " 5   Location               6266 non-null   object \n",
      " 6   Amenities              6266 non-null   object \n",
      " 7   Dogs_allowed           6255 non-null   object \n",
      " 8   Cats_allowed           6255 non-null   object \n",
      " 9   Deposite               6255 non-null   float64\n",
      " 10  Price_INR              6266 non-null   float64\n",
      " 11  Converted_Area         6255 non-null   float64\n",
      " 12  sno                    6266 non-null   int64  \n",
      " 13  Air Conditioning       6266 non-null   int64  \n",
      " 14  Balcony                6266 non-null   int64  \n",
      " 15  Parking                6266 non-null   int64  \n",
      " 16  Pool                   6266 non-null   int64  \n",
      " 17  Dishwasher             6266 non-null   int64  \n",
      " 18  Garden                 6266 non-null   int64  \n",
      " 19  Storage                6266 non-null   int64  \n",
      " 20  Hardwood Floors        6266 non-null   int64  \n",
      " 21  Wheelchair Accessible  6266 non-null   int64  \n",
      " 22  Elevator               6266 non-null   int64  \n",
      " 23  Fireplace              6266 non-null   int64  \n",
      " 24  Furnished              6266 non-null   int64  \n",
      " 25  Washer/Dryer In Unit   6266 non-null   int64  \n",
      " 26  Gym                    6266 non-null   int64  \n",
      " 27  Student Friendly       6266 non-null   int64  \n",
      " 28  Roof Deck              6266 non-null   int64  \n",
      " 29  Utilities Included     6266 non-null   int64  \n",
      " 30  Beach View             6266 non-null   int64  \n",
      " 31  High Rise              6266 non-null   int64  \n",
      " 32  Doorman                6266 non-null   int64  \n",
      " 33  StateCode              6266 non-null   object \n",
      " 34  CountryCode            6266 non-null   object \n",
      "dtypes: float64(4), int32(1), int64(21), object(9)\n",
      "memory usage: 1.6+ MB\n"
     ]
    }
   ],
   "source": [
    "df.info()"
   ]
  },
  {
   "cell_type": "code",
   "execution_count": 257,
   "id": "77581088",
   "metadata": {},
   "outputs": [
    {
     "data": {
      "text/html": [
       "<div>\n",
       "<style scoped>\n",
       "    .dataframe tbody tr th:only-of-type {\n",
       "        vertical-align: middle;\n",
       "    }\n",
       "\n",
       "    .dataframe tbody tr th {\n",
       "        vertical-align: top;\n",
       "    }\n",
       "\n",
       "    .dataframe thead th {\n",
       "        text-align: right;\n",
       "    }\n",
       "</style>\n",
       "<table border=\"1\" class=\"dataframe\">\n",
       "  <thead>\n",
       "    <tr style=\"text-align: right;\">\n",
       "      <th></th>\n",
       "      <th>City</th>\n",
       "      <th>Price</th>\n",
       "      <th>Rooms</th>\n",
       "      <th>Bathrooms</th>\n",
       "      <th>Area</th>\n",
       "      <th>Location</th>\n",
       "      <th>Amenities</th>\n",
       "      <th>Dogs_allowed</th>\n",
       "      <th>Cats_allowed</th>\n",
       "      <th>Deposite</th>\n",
       "      <th>...</th>\n",
       "      <th>Washer/Dryer In Unit</th>\n",
       "      <th>Gym</th>\n",
       "      <th>Student Friendly</th>\n",
       "      <th>Roof Deck</th>\n",
       "      <th>Utilities Included</th>\n",
       "      <th>Beach View</th>\n",
       "      <th>High Rise</th>\n",
       "      <th>Doorman</th>\n",
       "      <th>StateCode</th>\n",
       "      <th>CountryCode</th>\n",
       "    </tr>\n",
       "  </thead>\n",
       "  <tbody>\n",
       "    <tr>\n",
       "      <th>3151</th>\n",
       "      <td>Toronto, CA</td>\n",
       "      <td>$1,200</td>\n",
       "      <td>1</td>\n",
       "      <td>2.0</td>\n",
       "      <td>2600m</td>\n",
       "      <td>20 Brockton Ave, Toronto, ON M6K 1S5, Canada</td>\n",
       "      <td>[Washer/Dryer In Unit, Air Conditioning, Hardw...</td>\n",
       "      <td>allowed</td>\n",
       "      <td>allowed</td>\n",
       "      <td>89400.0</td>\n",
       "      <td>...</td>\n",
       "      <td>1</td>\n",
       "      <td>0</td>\n",
       "      <td>1</td>\n",
       "      <td>1</td>\n",
       "      <td>1</td>\n",
       "      <td>1</td>\n",
       "      <td>0</td>\n",
       "      <td>0</td>\n",
       "      <td>CA</td>\n",
       "      <td>CA</td>\n",
       "    </tr>\n",
       "  </tbody>\n",
       "</table>\n",
       "<p>1 rows × 35 columns</p>\n",
       "</div>"
      ],
      "text/plain": [
       "             City   Price  Rooms  Bathrooms   Area  \\\n",
       "3151  Toronto, CA  $1,200      1        2.0  2600m   \n",
       "\n",
       "                                          Location  \\\n",
       "3151  20 Brockton Ave, Toronto, ON M6K 1S5, Canada   \n",
       "\n",
       "                                              Amenities Dogs_allowed  \\\n",
       "3151  [Washer/Dryer In Unit, Air Conditioning, Hardw...      allowed   \n",
       "\n",
       "     Cats_allowed  Deposite  ...  Washer/Dryer In Unit  Gym  Student Friendly  \\\n",
       "3151      allowed   89400.0  ...                     1    0                 1   \n",
       "\n",
       "      Roof Deck  Utilities Included  Beach View  High Rise  Doorman  \\\n",
       "3151          1                   1           1          0        0   \n",
       "\n",
       "      StateCode  CountryCode  \n",
       "3151         CA           CA  \n",
       "\n",
       "[1 rows x 35 columns]"
      ]
     },
     "execution_count": 257,
     "metadata": {},
     "output_type": "execute_result"
    }
   ],
   "source": [
    "df[df['sno']==3443]"
   ]
  },
  {
   "cell_type": "code",
   "execution_count": 259,
   "id": "44dcdfdf",
   "metadata": {},
   "outputs": [
    {
     "ename": "NameError",
     "evalue": "name 'ammnitiestable' is not defined",
     "output_type": "error",
     "traceback": [
      "\u001b[1;31m---------------------------------------------------------------------------\u001b[0m",
      "\u001b[1;31mNameError\u001b[0m                                 Traceback (most recent call last)",
      "Cell \u001b[1;32mIn[259], line 1\u001b[0m\n\u001b[1;32m----> 1\u001b[0m ammnitiestable\n",
      "\u001b[1;31mNameError\u001b[0m: name 'ammnitiestable' is not defined"
     ]
    }
   ],
   "source": []
  },
  {
   "cell_type": "code",
   "execution_count": 274,
   "id": "f9fc3066",
   "metadata": {},
   "outputs": [
    {
     "data": {
      "text/html": [
       "<div>\n",
       "<style scoped>\n",
       "    .dataframe tbody tr th:only-of-type {\n",
       "        vertical-align: middle;\n",
       "    }\n",
       "\n",
       "    .dataframe tbody tr th {\n",
       "        vertical-align: top;\n",
       "    }\n",
       "\n",
       "    .dataframe thead th {\n",
       "        text-align: right;\n",
       "    }\n",
       "</style>\n",
       "<table border=\"1\" class=\"dataframe\">\n",
       "  <thead>\n",
       "    <tr style=\"text-align: right;\">\n",
       "      <th></th>\n",
       "      <th>City</th>\n",
       "      <th>Price</th>\n",
       "      <th>Rooms</th>\n",
       "      <th>Bathrooms</th>\n",
       "      <th>Area</th>\n",
       "      <th>Location</th>\n",
       "      <th>Amenities</th>\n",
       "      <th>Dogs_allowed</th>\n",
       "      <th>Cats_allowed</th>\n",
       "      <th>Deposite</th>\n",
       "      <th>...</th>\n",
       "      <th>Washer/Dryer In Unit</th>\n",
       "      <th>Gym</th>\n",
       "      <th>Student Friendly</th>\n",
       "      <th>Roof Deck</th>\n",
       "      <th>Utilities Included</th>\n",
       "      <th>Beach View</th>\n",
       "      <th>High Rise</th>\n",
       "      <th>Doorman</th>\n",
       "      <th>StateCode</th>\n",
       "      <th>CountryCode</th>\n",
       "    </tr>\n",
       "  </thead>\n",
       "  <tbody>\n",
       "    <tr>\n",
       "      <th>689</th>\n",
       "      <td>Dallas</td>\n",
       "      <td>$10,955</td>\n",
       "      <td>5</td>\n",
       "      <td>1.0</td>\n",
       "      <td>2552sf</td>\n",
       "      <td>Payne Parkway, Castleridge, Grand Prairie, TX ...</td>\n",
       "      <td>[Fireplace, Air Conditioning, Washer/Dryer In ...</td>\n",
       "      <td>allowed</td>\n",
       "      <td>allowed</td>\n",
       "      <td>0.0</td>\n",
       "      <td>...</td>\n",
       "      <td>1</td>\n",
       "      <td>0</td>\n",
       "      <td>0</td>\n",
       "      <td>0</td>\n",
       "      <td>0</td>\n",
       "      <td>0</td>\n",
       "      <td>0</td>\n",
       "      <td>0</td>\n",
       "      <td>TX</td>\n",
       "      <td>US</td>\n",
       "    </tr>\n",
       "    <tr>\n",
       "      <th>782</th>\n",
       "      <td>Dallas</td>\n",
       "      <td>$14,861</td>\n",
       "      <td>5</td>\n",
       "      <td>1.0</td>\n",
       "      <td>2304sf</td>\n",
       "      <td>12408 Veronica Road, Farmers Branch, TX 75234,...</td>\n",
       "      <td>[Fireplace, Air Conditioning, Dishwasher, Wash...</td>\n",
       "      <td>allowed</td>\n",
       "      <td>allowed</td>\n",
       "      <td>0.0</td>\n",
       "      <td>...</td>\n",
       "      <td>1</td>\n",
       "      <td>0</td>\n",
       "      <td>0</td>\n",
       "      <td>0</td>\n",
       "      <td>0</td>\n",
       "      <td>0</td>\n",
       "      <td>0</td>\n",
       "      <td>0</td>\n",
       "      <td>TX</td>\n",
       "      <td>US</td>\n",
       "    </tr>\n",
       "    <tr>\n",
       "      <th>795</th>\n",
       "      <td>Dallas</td>\n",
       "      <td>$4,146</td>\n",
       "      <td>2</td>\n",
       "      <td>1.0</td>\n",
       "      <td>0</td>\n",
       "      <td>1815 South Edgefield Avenue, Dallas, TX 75224,...</td>\n",
       "      <td>[Air Conditioning, Dishwasher, Washer/Dryer In...</td>\n",
       "      <td>allowed</td>\n",
       "      <td>allowed</td>\n",
       "      <td>0.0</td>\n",
       "      <td>...</td>\n",
       "      <td>1</td>\n",
       "      <td>0</td>\n",
       "      <td>0</td>\n",
       "      <td>0</td>\n",
       "      <td>0</td>\n",
       "      <td>0</td>\n",
       "      <td>0</td>\n",
       "      <td>0</td>\n",
       "      <td>TX</td>\n",
       "      <td>US</td>\n",
       "    </tr>\n",
       "    <tr>\n",
       "      <th>2579</th>\n",
       "      <td>Toronto, CA</td>\n",
       "      <td>$1,200</td>\n",
       "      <td>1</td>\n",
       "      <td>2.0</td>\n",
       "      <td>2600m</td>\n",
       "      <td>20 Brockton Ave, Toronto, ON M6K 1S5, Canada</td>\n",
       "      <td>[Washer/Dryer In Unit, Air Conditioning, Hardw...</td>\n",
       "      <td>allowed</td>\n",
       "      <td>allowed</td>\n",
       "      <td>89400.0</td>\n",
       "      <td>...</td>\n",
       "      <td>1</td>\n",
       "      <td>0</td>\n",
       "      <td>1</td>\n",
       "      <td>1</td>\n",
       "      <td>1</td>\n",
       "      <td>1</td>\n",
       "      <td>0</td>\n",
       "      <td>0</td>\n",
       "      <td>CA</td>\n",
       "      <td>CA</td>\n",
       "    </tr>\n",
       "    <tr>\n",
       "      <th>3151</th>\n",
       "      <td>Toronto, CA</td>\n",
       "      <td>$1,200</td>\n",
       "      <td>1</td>\n",
       "      <td>2.0</td>\n",
       "      <td>2600m</td>\n",
       "      <td>20 Brockton Ave, Toronto, ON M6K 1S5, Canada</td>\n",
       "      <td>[Washer/Dryer In Unit, Air Conditioning, Hardw...</td>\n",
       "      <td>allowed</td>\n",
       "      <td>allowed</td>\n",
       "      <td>89400.0</td>\n",
       "      <td>...</td>\n",
       "      <td>1</td>\n",
       "      <td>0</td>\n",
       "      <td>1</td>\n",
       "      <td>1</td>\n",
       "      <td>1</td>\n",
       "      <td>1</td>\n",
       "      <td>0</td>\n",
       "      <td>0</td>\n",
       "      <td>CA</td>\n",
       "      <td>CA</td>\n",
       "    </tr>\n",
       "    <tr>\n",
       "      <th>...</th>\n",
       "      <td>...</td>\n",
       "      <td>...</td>\n",
       "      <td>...</td>\n",
       "      <td>...</td>\n",
       "      <td>...</td>\n",
       "      <td>...</td>\n",
       "      <td>...</td>\n",
       "      <td>...</td>\n",
       "      <td>...</td>\n",
       "      <td>...</td>\n",
       "      <td>...</td>\n",
       "      <td>...</td>\n",
       "      <td>...</td>\n",
       "      <td>...</td>\n",
       "      <td>...</td>\n",
       "      <td>...</td>\n",
       "      <td>...</td>\n",
       "      <td>...</td>\n",
       "      <td>...</td>\n",
       "      <td>...</td>\n",
       "      <td>...</td>\n",
       "    </tr>\n",
       "    <tr>\n",
       "      <th>6217</th>\n",
       "      <td>Munich</td>\n",
       "      <td>€2,386</td>\n",
       "      <td>1</td>\n",
       "      <td>1.0</td>\n",
       "      <td>29m</td>\n",
       "      <td>Geyerstraße 52, 80469 Munich, Germany</td>\n",
       "      <td>[Furnished, Parking, Washer/Dryer In Unit, Uti...</td>\n",
       "      <td>allowed</td>\n",
       "      <td>allowed</td>\n",
       "      <td>0.0</td>\n",
       "      <td>...</td>\n",
       "      <td>1</td>\n",
       "      <td>0</td>\n",
       "      <td>0</td>\n",
       "      <td>0</td>\n",
       "      <td>1</td>\n",
       "      <td>0</td>\n",
       "      <td>0</td>\n",
       "      <td>0</td>\n",
       "      <td>MUC</td>\n",
       "      <td>DE</td>\n",
       "    </tr>\n",
       "    <tr>\n",
       "      <th>6227</th>\n",
       "      <td>Munich</td>\n",
       "      <td>€3,611</td>\n",
       "      <td>3</td>\n",
       "      <td>1.0</td>\n",
       "      <td>46m</td>\n",
       "      <td>Max Lodging, Krüner Straße, 81373 Munich, Germany</td>\n",
       "      <td>[Furnished, Parking, Washer/Dryer In Unit, Uti...</td>\n",
       "      <td>allowed</td>\n",
       "      <td>allowed</td>\n",
       "      <td>0.0</td>\n",
       "      <td>...</td>\n",
       "      <td>1</td>\n",
       "      <td>0</td>\n",
       "      <td>0</td>\n",
       "      <td>0</td>\n",
       "      <td>1</td>\n",
       "      <td>0</td>\n",
       "      <td>0</td>\n",
       "      <td>0</td>\n",
       "      <td>MUC</td>\n",
       "      <td>DE</td>\n",
       "    </tr>\n",
       "    <tr>\n",
       "      <th>6231</th>\n",
       "      <td>Munich</td>\n",
       "      <td>€2,050</td>\n",
       "      <td>3</td>\n",
       "      <td>1.0</td>\n",
       "      <td>55m</td>\n",
       "      <td>Ostendorferweg 6, 80686 Munich, Germany</td>\n",
       "      <td>[Balcony, Dishwasher, Elevator, Washer/Dryer I...</td>\n",
       "      <td>allowed</td>\n",
       "      <td>allowed</td>\n",
       "      <td>0.0</td>\n",
       "      <td>...</td>\n",
       "      <td>1</td>\n",
       "      <td>0</td>\n",
       "      <td>0</td>\n",
       "      <td>0</td>\n",
       "      <td>0</td>\n",
       "      <td>0</td>\n",
       "      <td>0</td>\n",
       "      <td>0</td>\n",
       "      <td>MUC</td>\n",
       "      <td>DE</td>\n",
       "    </tr>\n",
       "    <tr>\n",
       "      <th>6243</th>\n",
       "      <td>Munich</td>\n",
       "      <td>€1,746</td>\n",
       "      <td>1</td>\n",
       "      <td>1.0</td>\n",
       "      <td>20m</td>\n",
       "      <td>BOLD Hotel, Aschauer Straße 12, 81549 Munich, ...</td>\n",
       "      <td>[Furnished, Parking, Washer/Dryer In Unit, Uti...</td>\n",
       "      <td>allowed</td>\n",
       "      <td>allowed</td>\n",
       "      <td>43600.0</td>\n",
       "      <td>...</td>\n",
       "      <td>1</td>\n",
       "      <td>0</td>\n",
       "      <td>0</td>\n",
       "      <td>0</td>\n",
       "      <td>1</td>\n",
       "      <td>0</td>\n",
       "      <td>0</td>\n",
       "      <td>0</td>\n",
       "      <td>MUC</td>\n",
       "      <td>DE</td>\n",
       "    </tr>\n",
       "    <tr>\n",
       "      <th>6262</th>\n",
       "      <td>Munich</td>\n",
       "      <td>€3,753</td>\n",
       "      <td>1</td>\n",
       "      <td>1.0</td>\n",
       "      <td>27m</td>\n",
       "      <td>Westendstraße 170, 80686 Munich, Germany</td>\n",
       "      <td>[Furnished, Parking, Washer/Dryer In Unit, Uti...</td>\n",
       "      <td>allowed</td>\n",
       "      <td>allowed</td>\n",
       "      <td>0.0</td>\n",
       "      <td>...</td>\n",
       "      <td>1</td>\n",
       "      <td>0</td>\n",
       "      <td>0</td>\n",
       "      <td>0</td>\n",
       "      <td>1</td>\n",
       "      <td>0</td>\n",
       "      <td>0</td>\n",
       "      <td>0</td>\n",
       "      <td>MUC</td>\n",
       "      <td>DE</td>\n",
       "    </tr>\n",
       "  </tbody>\n",
       "</table>\n",
       "<p>80 rows × 35 columns</p>\n",
       "</div>"
      ],
      "text/plain": [
       "             City    Price  Rooms  Bathrooms    Area  \\\n",
       "689        Dallas  $10,955      5        1.0  2552sf   \n",
       "782        Dallas  $14,861      5        1.0  2304sf   \n",
       "795        Dallas   $4,146      2        1.0       0   \n",
       "2579  Toronto, CA   $1,200      1        2.0   2600m   \n",
       "3151  Toronto, CA   $1,200      1        2.0   2600m   \n",
       "...           ...      ...    ...        ...     ...   \n",
       "6217       Munich   €2,386      1        1.0     29m   \n",
       "6227       Munich   €3,611      3        1.0     46m   \n",
       "6231       Munich   €2,050      3        1.0     55m   \n",
       "6243       Munich   €1,746      1        1.0     20m   \n",
       "6262       Munich   €3,753      1        1.0     27m   \n",
       "\n",
       "                                               Location  \\\n",
       "689   Payne Parkway, Castleridge, Grand Prairie, TX ...   \n",
       "782   12408 Veronica Road, Farmers Branch, TX 75234,...   \n",
       "795   1815 South Edgefield Avenue, Dallas, TX 75224,...   \n",
       "2579       20 Brockton Ave, Toronto, ON M6K 1S5, Canada   \n",
       "3151       20 Brockton Ave, Toronto, ON M6K 1S5, Canada   \n",
       "...                                                 ...   \n",
       "6217              Geyerstraße 52, 80469 Munich, Germany   \n",
       "6227  Max Lodging, Krüner Straße, 81373 Munich, Germany   \n",
       "6231            Ostendorferweg 6, 80686 Munich, Germany   \n",
       "6243  BOLD Hotel, Aschauer Straße 12, 81549 Munich, ...   \n",
       "6262           Westendstraße 170, 80686 Munich, Germany   \n",
       "\n",
       "                                              Amenities Dogs_allowed  \\\n",
       "689   [Fireplace, Air Conditioning, Washer/Dryer In ...      allowed   \n",
       "782   [Fireplace, Air Conditioning, Dishwasher, Wash...      allowed   \n",
       "795   [Air Conditioning, Dishwasher, Washer/Dryer In...      allowed   \n",
       "2579  [Washer/Dryer In Unit, Air Conditioning, Hardw...      allowed   \n",
       "3151  [Washer/Dryer In Unit, Air Conditioning, Hardw...      allowed   \n",
       "...                                                 ...          ...   \n",
       "6217  [Furnished, Parking, Washer/Dryer In Unit, Uti...      allowed   \n",
       "6227  [Furnished, Parking, Washer/Dryer In Unit, Uti...      allowed   \n",
       "6231  [Balcony, Dishwasher, Elevator, Washer/Dryer I...      allowed   \n",
       "6243  [Furnished, Parking, Washer/Dryer In Unit, Uti...      allowed   \n",
       "6262  [Furnished, Parking, Washer/Dryer In Unit, Uti...      allowed   \n",
       "\n",
       "     Cats_allowed  Deposite  ...  Washer/Dryer In Unit  Gym  Student Friendly  \\\n",
       "689       allowed       0.0  ...                     1    0                 0   \n",
       "782       allowed       0.0  ...                     1    0                 0   \n",
       "795       allowed       0.0  ...                     1    0                 0   \n",
       "2579      allowed   89400.0  ...                     1    0                 1   \n",
       "3151      allowed   89400.0  ...                     1    0                 1   \n",
       "...           ...       ...  ...                   ...  ...               ...   \n",
       "6217      allowed       0.0  ...                     1    0                 0   \n",
       "6227      allowed       0.0  ...                     1    0                 0   \n",
       "6231      allowed       0.0  ...                     1    0                 0   \n",
       "6243      allowed   43600.0  ...                     1    0                 0   \n",
       "6262      allowed       0.0  ...                     1    0                 0   \n",
       "\n",
       "      Roof Deck  Utilities Included  Beach View  High Rise  Doorman  \\\n",
       "689           0                   0           0          0        0   \n",
       "782           0                   0           0          0        0   \n",
       "795           0                   0           0          0        0   \n",
       "2579          1                   1           1          0        0   \n",
       "3151          1                   1           1          0        0   \n",
       "...         ...                 ...         ...        ...      ...   \n",
       "6217          0                   1           0          0        0   \n",
       "6227          0                   1           0          0        0   \n",
       "6231          0                   0           0          0        0   \n",
       "6243          0                   1           0          0        0   \n",
       "6262          0                   1           0          0        0   \n",
       "\n",
       "      StateCode  CountryCode  \n",
       "689          TX           US  \n",
       "782          TX           US  \n",
       "795          TX           US  \n",
       "2579         CA           CA  \n",
       "3151         CA           CA  \n",
       "...         ...          ...  \n",
       "6217        MUC           DE  \n",
       "6227        MUC           DE  \n",
       "6231        MUC           DE  \n",
       "6243        MUC           DE  \n",
       "6262        MUC           DE  \n",
       "\n",
       "[80 rows x 35 columns]"
      ]
     },
     "execution_count": 274,
     "metadata": {},
     "output_type": "execute_result"
    }
   ],
   "source": [
    "df[(df['Washer/Dryer In Unit']==1) & (df['Dogs_allowed'] =='allowed')]"
   ]
  },
  {
   "cell_type": "code",
   "execution_count": null,
   "id": "b97d2c4a",
   "metadata": {},
   "outputs": [],
   "source": []
  }
 ],
 "metadata": {
  "kernelspec": {
   "display_name": "Python 3 (ipykernel)",
   "language": "python",
   "name": "python3"
  },
  "language_info": {
   "codemirror_mode": {
    "name": "ipython",
    "version": 3
   },
   "file_extension": ".py",
   "mimetype": "text/x-python",
   "name": "python",
   "nbconvert_exporter": "python",
   "pygments_lexer": "ipython3",
   "version": "3.11.5"
  }
 },
 "nbformat": 4,
 "nbformat_minor": 5
}
